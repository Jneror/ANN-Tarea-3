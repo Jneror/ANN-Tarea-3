{
 "cells": [
  {
   "cell_type": "markdown",
   "metadata": {
    "colab_type": "text",
    "id": "wiev3VxyJsUM"
   },
   "source": [
    "<img src=\"http://www.exalumnos.usm.cl/wp-content/uploads/2015/06/MARCA-Color.jpg\" title=\"Title text\" width=\"50%\" height=\"50%\" />\n",
    "\n",
    "\n",
    "<hr style=\"height:2px;border:none\"/>\n",
    "<h1 align='center'> INF-395/477 Redes Neuronales Artificiales II-2018 </h1>\n",
    "\n",
    "<H2 align='center'> Jorge Portilla- John Rodriguez </H2>\n",
    "<hr style=\"height:2px;border:none\"/>\n",
    "\n",
    "<H3 align='center'> Tarea 3 / Pregunta 1 -  Redes Recurrentes y Autoencoders </H3>\n",
    "<hr style=\"height:2px;border:none\"/>"
   ]
  },
  {
   "cell_type": "markdown",
   "metadata": {
    "colab_type": "text",
    "id": "J9WelqS0JvRU"
   },
   "source": [
    "<a id=\"primero\"></a>\n",
    "# RNN sobre texto\n",
    "\n",
    "Hoy en dı́a, una aplicación relevante de las redes neuronales recurrentes es el modelamiento de texto y lenguaje natural. En esta sección abordaremos el problema de procesar sentencias de texto, proporcionadas por GMB (*Groningen Meaning Bank*), para reconocimiento de entidades y tagger. En específico, trabajaremos con el dataset proprocionado a través de __[Kaggle](https://www.kaggle.com/abhinavwalia95/entity-annotated-corpus)__, que está compuesto por más de un millón de palabras, a fin de realizar predicciones sobre distintas tareas del tipo *many to many* y *many to one*.\n",
    "\n",
    "<img src=\"https://i.stack.imgur.com/b4sus.jpg\" width=\"70%\" />\n",
    "\n",
    "\n",
    "Luego de esto cree una estructura que contendrá todas las sentencias u oraciones y otra estructura que contendrá los las etiquetas (*tags*), esto es un arreglo de arreglos de *lemmas* y un arreglo de arreglos de *tags* respectivamente. **¿Cuales son las dimensiones de ambas estructuras? ¿Cada dato de ejemplo tiene las mismas dimensiones que el resto?**\n",
    "   "
   ]
  },
  {
   "cell_type": "code",
   "execution_count": 0,
   "metadata": {
    "colab": {
     "base_uri": "https://localhost:8080/",
     "height": 35
    },
    "colab_type": "code",
    "id": "saBd3YyAYgnS",
    "outputId": "7be5f7a2-db7d-4c29-ca5f-c06b9dfc54ba"
   },
   "outputs": [
    {
     "name": "stderr",
     "output_type": "stream",
     "text": [
      "Using TensorFlow backend.\n"
     ]
    }
   ],
   "source": [
    "#Librerías y modulos\n",
    "import numpy as np\n",
    "import os \n",
    "import keras\n",
    "import pandas as pd\n",
    "import matplotlib.pyplot as plt\n",
    "import math\n",
    "import seaborn as sns\n",
    "import scipy as sc\n",
    "\n",
    "from keras.layers import Bidirectional\n",
    "from keras.models import Sequential\n",
    "from keras.layers import LSTM, Embedding, Dense, Dropout, GRU, SimpleRNN\n",
    "from keras.preprocessing import sequence\n",
    "from keras.utils import to_categorical\n",
    "from sklearn.model_selection import train_test_split\n",
    "from keras.models import load_model\n",
    "from sklearn.metrics import f1_score\n",
    "from google.colab import files"
   ]
  },
  {
   "cell_type": "code",
   "execution_count": 0,
   "metadata": {
    "colab": {},
    "colab_type": "code",
    "id": "WQnYiosvUFw1"
   },
   "outputs": [],
   "source": [
    "pink = '#ff33a3'\n",
    "green = '#23D300'\n",
    "blue = '#009ee8'\n",
    "orange = '#ff6d38'"
   ]
  },
  {
   "cell_type": "markdown",
   "metadata": {
    "colab_type": "text",
    "id": "rWa1JBRXi84v"
   },
   "source": [
    "Se descarga el dataset, y se cargan los datos.\n"
   ]
  },
  {
   "cell_type": "code",
   "execution_count": 0,
   "metadata": {
    "colab": {
     "base_uri": "https://localhost:8080/",
     "height": 305
    },
    "colab_type": "code",
    "id": "nw8IVCpfJ27E",
    "outputId": "7e4fe65c-c3f3-4f5c-ce73-1bc882cb9a38"
   },
   "outputs": [
    {
     "name": "stderr",
     "output_type": "stream",
     "text": [
      "b'Skipping line 281837: expected 25 fields, saw 34\\n'\n"
     ]
    },
    {
     "data": {
      "text/html": [
       "<div>\n",
       "<style scoped>\n",
       "    .dataframe tbody tr th:only-of-type {\n",
       "        vertical-align: middle;\n",
       "    }\n",
       "\n",
       "    .dataframe tbody tr th {\n",
       "        vertical-align: top;\n",
       "    }\n",
       "\n",
       "    .dataframe thead th {\n",
       "        text-align: right;\n",
       "    }\n",
       "</style>\n",
       "<table border=\"1\" class=\"dataframe\">\n",
       "  <thead>\n",
       "    <tr style=\"text-align: right;\">\n",
       "      <th></th>\n",
       "      <th>Unnamed: 0</th>\n",
       "      <th>lemma</th>\n",
       "      <th>next-lemma</th>\n",
       "      <th>next-next-lemma</th>\n",
       "      <th>next-next-pos</th>\n",
       "      <th>next-next-shape</th>\n",
       "      <th>next-next-word</th>\n",
       "      <th>next-pos</th>\n",
       "      <th>next-shape</th>\n",
       "      <th>next-word</th>\n",
       "      <th>...</th>\n",
       "      <th>prev-prev-lemma</th>\n",
       "      <th>prev-prev-pos</th>\n",
       "      <th>prev-prev-shape</th>\n",
       "      <th>prev-prev-word</th>\n",
       "      <th>prev-shape</th>\n",
       "      <th>prev-word</th>\n",
       "      <th>sentence_idx</th>\n",
       "      <th>shape</th>\n",
       "      <th>word</th>\n",
       "      <th>tag</th>\n",
       "    </tr>\n",
       "  </thead>\n",
       "  <tbody>\n",
       "    <tr>\n",
       "      <th>0</th>\n",
       "      <td>0</td>\n",
       "      <td>thousand</td>\n",
       "      <td>of</td>\n",
       "      <td>demonstr</td>\n",
       "      <td>NNS</td>\n",
       "      <td>lowercase</td>\n",
       "      <td>demonstrators</td>\n",
       "      <td>IN</td>\n",
       "      <td>lowercase</td>\n",
       "      <td>of</td>\n",
       "      <td>...</td>\n",
       "      <td>__start2__</td>\n",
       "      <td>__START2__</td>\n",
       "      <td>wildcard</td>\n",
       "      <td>__START2__</td>\n",
       "      <td>wildcard</td>\n",
       "      <td>__START1__</td>\n",
       "      <td>1.0</td>\n",
       "      <td>capitalized</td>\n",
       "      <td>Thousands</td>\n",
       "      <td>O</td>\n",
       "    </tr>\n",
       "    <tr>\n",
       "      <th>1</th>\n",
       "      <td>1</td>\n",
       "      <td>of</td>\n",
       "      <td>demonstr</td>\n",
       "      <td>have</td>\n",
       "      <td>VBP</td>\n",
       "      <td>lowercase</td>\n",
       "      <td>have</td>\n",
       "      <td>NNS</td>\n",
       "      <td>lowercase</td>\n",
       "      <td>demonstrators</td>\n",
       "      <td>...</td>\n",
       "      <td>__start1__</td>\n",
       "      <td>__START1__</td>\n",
       "      <td>wildcard</td>\n",
       "      <td>__START1__</td>\n",
       "      <td>capitalized</td>\n",
       "      <td>Thousands</td>\n",
       "      <td>1.0</td>\n",
       "      <td>lowercase</td>\n",
       "      <td>of</td>\n",
       "      <td>O</td>\n",
       "    </tr>\n",
       "    <tr>\n",
       "      <th>2</th>\n",
       "      <td>2</td>\n",
       "      <td>demonstr</td>\n",
       "      <td>have</td>\n",
       "      <td>march</td>\n",
       "      <td>VBN</td>\n",
       "      <td>lowercase</td>\n",
       "      <td>marched</td>\n",
       "      <td>VBP</td>\n",
       "      <td>lowercase</td>\n",
       "      <td>have</td>\n",
       "      <td>...</td>\n",
       "      <td>thousand</td>\n",
       "      <td>NNS</td>\n",
       "      <td>capitalized</td>\n",
       "      <td>Thousands</td>\n",
       "      <td>lowercase</td>\n",
       "      <td>of</td>\n",
       "      <td>1.0</td>\n",
       "      <td>lowercase</td>\n",
       "      <td>demonstrators</td>\n",
       "      <td>O</td>\n",
       "    </tr>\n",
       "    <tr>\n",
       "      <th>3</th>\n",
       "      <td>3</td>\n",
       "      <td>have</td>\n",
       "      <td>march</td>\n",
       "      <td>through</td>\n",
       "      <td>IN</td>\n",
       "      <td>lowercase</td>\n",
       "      <td>through</td>\n",
       "      <td>VBN</td>\n",
       "      <td>lowercase</td>\n",
       "      <td>marched</td>\n",
       "      <td>...</td>\n",
       "      <td>of</td>\n",
       "      <td>IN</td>\n",
       "      <td>lowercase</td>\n",
       "      <td>of</td>\n",
       "      <td>lowercase</td>\n",
       "      <td>demonstrators</td>\n",
       "      <td>1.0</td>\n",
       "      <td>lowercase</td>\n",
       "      <td>have</td>\n",
       "      <td>O</td>\n",
       "    </tr>\n",
       "    <tr>\n",
       "      <th>4</th>\n",
       "      <td>4</td>\n",
       "      <td>march</td>\n",
       "      <td>through</td>\n",
       "      <td>london</td>\n",
       "      <td>NNP</td>\n",
       "      <td>capitalized</td>\n",
       "      <td>London</td>\n",
       "      <td>IN</td>\n",
       "      <td>lowercase</td>\n",
       "      <td>through</td>\n",
       "      <td>...</td>\n",
       "      <td>demonstr</td>\n",
       "      <td>NNS</td>\n",
       "      <td>lowercase</td>\n",
       "      <td>demonstrators</td>\n",
       "      <td>lowercase</td>\n",
       "      <td>have</td>\n",
       "      <td>1.0</td>\n",
       "      <td>lowercase</td>\n",
       "      <td>marched</td>\n",
       "      <td>O</td>\n",
       "    </tr>\n",
       "  </tbody>\n",
       "</table>\n",
       "<p>5 rows × 25 columns</p>\n",
       "</div>"
      ],
      "text/plain": [
       "   Unnamed: 0     lemma next-lemma next-next-lemma next-next-pos  \\\n",
       "0           0  thousand         of        demonstr           NNS   \n",
       "1           1        of   demonstr            have           VBP   \n",
       "2           2  demonstr       have           march           VBN   \n",
       "3           3      have      march         through            IN   \n",
       "4           4     march    through          london           NNP   \n",
       "\n",
       "  next-next-shape next-next-word next-pos next-shape      next-word ...  \\\n",
       "0       lowercase  demonstrators       IN  lowercase             of ...   \n",
       "1       lowercase           have      NNS  lowercase  demonstrators ...   \n",
       "2       lowercase        marched      VBP  lowercase           have ...   \n",
       "3       lowercase        through      VBN  lowercase        marched ...   \n",
       "4     capitalized         London       IN  lowercase        through ...   \n",
       "\n",
       "  prev-prev-lemma prev-prev-pos prev-prev-shape prev-prev-word   prev-shape  \\\n",
       "0      __start2__    __START2__        wildcard     __START2__     wildcard   \n",
       "1      __start1__    __START1__        wildcard     __START1__  capitalized   \n",
       "2        thousand           NNS     capitalized      Thousands    lowercase   \n",
       "3              of            IN       lowercase             of    lowercase   \n",
       "4        demonstr           NNS       lowercase  demonstrators    lowercase   \n",
       "\n",
       "       prev-word sentence_idx        shape           word tag  \n",
       "0     __START1__          1.0  capitalized      Thousands   O  \n",
       "1      Thousands          1.0    lowercase             of   O  \n",
       "2             of          1.0    lowercase  demonstrators   O  \n",
       "3  demonstrators          1.0    lowercase           have   O  \n",
       "4           have          1.0    lowercase        marched   O  \n",
       "\n",
       "[5 rows x 25 columns]"
      ]
     },
     "execution_count": 6,
     "metadata": {
      "tags": []
     },
     "output_type": "execute_result"
    }
   ],
   "source": [
    "df_ner = pd.read_csv(\"ner.csv\", encoding =\"cp1252\", error_bad_lines=False)\n",
    "df_ner.dropna(inplace=True)\n",
    "df_ner.head()"
   ]
  },
  {
   "cell_type": "code",
   "execution_count": 0,
   "metadata": {
    "colab": {
     "base_uri": "https://localhost:8080/",
     "height": 35
    },
    "colab_type": "code",
    "id": "B95TAst3jWo-",
    "outputId": "0e15693d-4d3a-4858-fbcc-77f65104729e"
   },
   "outputs": [
    {
     "data": {
      "text/plain": [
       "(1050794, 25)"
      ]
     },
     "execution_count": 7,
     "metadata": {
      "tags": []
     },
     "output_type": "execute_result"
    }
   ],
   "source": [
    "df_ner.shape"
   ]
  },
  {
   "cell_type": "markdown",
   "metadata": {
    "colab_type": "text",
    "id": "PfDl0JWmjYGz"
   },
   "source": [
    "Los datos están formados por 25 características representadas en columnas con 1050794 entradas. De las columnas, solo dos están compuestas de números y el restante son caracteres."
   ]
  },
  {
   "cell_type": "code",
   "execution_count": 0,
   "metadata": {
    "colab": {
     "base_uri": "https://localhost:8080/",
     "height": 557
    },
    "colab_type": "code",
    "id": "ja-_qVeVjyjA",
    "outputId": "24f90715-bbc4-4d30-aef9-b2a77d6f833a"
   },
   "outputs": [
    {
     "name": "stdout",
     "output_type": "stream",
     "text": [
      "<class 'pandas.core.frame.DataFrame'>\n",
      "Int64Index: 1050794 entries, 0 to 1050794\n",
      "Data columns (total 25 columns):\n",
      "Unnamed: 0         1050794 non-null int64\n",
      "lemma              1050794 non-null object\n",
      "next-lemma         1050794 non-null object\n",
      "next-next-lemma    1050794 non-null object\n",
      "next-next-pos      1050794 non-null object\n",
      "next-next-shape    1050794 non-null object\n",
      "next-next-word     1050794 non-null object\n",
      "next-pos           1050794 non-null object\n",
      "next-shape         1050794 non-null object\n",
      "next-word          1050794 non-null object\n",
      "pos                1050794 non-null object\n",
      "prev-iob           1050794 non-null object\n",
      "prev-lemma         1050794 non-null object\n",
      "prev-pos           1050794 non-null object\n",
      "prev-prev-iob      1050794 non-null object\n",
      "prev-prev-lemma    1050794 non-null object\n",
      "prev-prev-pos      1050794 non-null object\n",
      "prev-prev-shape    1050794 non-null object\n",
      "prev-prev-word     1050794 non-null object\n",
      "prev-shape         1050794 non-null object\n",
      "prev-word          1050794 non-null object\n",
      "sentence_idx       1050794 non-null float64\n",
      "shape              1050794 non-null object\n",
      "word               1050794 non-null object\n",
      "tag                1050794 non-null object\n",
      "dtypes: float64(1), int64(1), object(23)\n",
      "memory usage: 208.4+ MB\n"
     ]
    }
   ],
   "source": [
    "df_ner.info()"
   ]
  },
  {
   "cell_type": "markdown",
   "metadata": {
    "colab_type": "text",
    "id": "hsU2zSWkZVQC"
   },
   "source": [
    "\n",
    "\n",
    "---\n",
    "\n",
    "\n",
    "## Pregunta A\n",
    "> En esta primera instancia trabajaremos con la tarea de realizar un NER *tag* (**Named Entity Recognition**) sobre cada una de las palabras en las sentencias que se nos presenta en los datos. Esta tarea es del tipo *many to many*, es decir, la entrada es una secuencia y la salida es una secuencia, sin *shift*, por lo que necesitaremos una estructura de red adecuada a ésto. En primer lugar extraiga las columnas que utilizaremos del dataset **¿Por qué es conveniente utilizar *lemma* en vez de la palabra misma *word*?**\n",
    "\n",
    "\n",
    "> *  **Lemma** es el resultado de aplicar lemmatization a la palabra correspondiente a la raiz de la palabra, eliminando inflexiones. Por ejemplo, la palabra *saw* tendría como lemma *see*, o *saw* dependiendo del contexto (verbo o sustantivo). A diferencia de stemming, donde simplemente se reduce la palabra por medio de truncado, lemmatization reduce la palabra en base a diccionario. En este caso el lemma se obtiene de la palabra en *lowercase*.\n",
    "\n",
    "> *  **pos** es la etiqueta de Part-of-Speech que corresponde a la función de una palabra dentro de una oración.\n",
    "\n",
    "> *  **tag** es el mecanísmo de tags que usa NER llamadio IOB (In, Out, Begin).\n",
    "\n",
    "> *  **prev-iob** tag de la palabra previa\n",
    "\n"
   ]
  },
  {
   "cell_type": "code",
   "execution_count": 0,
   "metadata": {
    "colab": {
     "base_uri": "https://localhost:8080/",
     "height": 204
    },
    "colab_type": "code",
    "id": "wUDldPrwkPa0",
    "outputId": "bb515716-f007-4656-ab94-5b5d2d3f2bdf"
   },
   "outputs": [
    {
     "data": {
      "text/html": [
       "<div>\n",
       "<style scoped>\n",
       "    .dataframe tbody tr th:only-of-type {\n",
       "        vertical-align: middle;\n",
       "    }\n",
       "\n",
       "    .dataframe tbody tr th {\n",
       "        vertical-align: top;\n",
       "    }\n",
       "\n",
       "    .dataframe thead th {\n",
       "        text-align: right;\n",
       "    }\n",
       "</style>\n",
       "<table border=\"1\" class=\"dataframe\">\n",
       "  <thead>\n",
       "    <tr style=\"text-align: right;\">\n",
       "      <th></th>\n",
       "      <th>word</th>\n",
       "      <th>pos</th>\n",
       "      <th>tag</th>\n",
       "      <th>prev-iob</th>\n",
       "    </tr>\n",
       "  </thead>\n",
       "  <tbody>\n",
       "    <tr>\n",
       "      <th>0</th>\n",
       "      <td>Thousands</td>\n",
       "      <td>NNS</td>\n",
       "      <td>O</td>\n",
       "      <td>__START1__</td>\n",
       "    </tr>\n",
       "    <tr>\n",
       "      <th>1</th>\n",
       "      <td>of</td>\n",
       "      <td>IN</td>\n",
       "      <td>O</td>\n",
       "      <td>O</td>\n",
       "    </tr>\n",
       "    <tr>\n",
       "      <th>2</th>\n",
       "      <td>demonstrators</td>\n",
       "      <td>NNS</td>\n",
       "      <td>O</td>\n",
       "      <td>O</td>\n",
       "    </tr>\n",
       "    <tr>\n",
       "      <th>3</th>\n",
       "      <td>have</td>\n",
       "      <td>VBP</td>\n",
       "      <td>O</td>\n",
       "      <td>O</td>\n",
       "    </tr>\n",
       "    <tr>\n",
       "      <th>4</th>\n",
       "      <td>marched</td>\n",
       "      <td>VBN</td>\n",
       "      <td>O</td>\n",
       "      <td>O</td>\n",
       "    </tr>\n",
       "  </tbody>\n",
       "</table>\n",
       "</div>"
      ],
      "text/plain": [
       "            word  pos tag    prev-iob\n",
       "0      Thousands  NNS   O  __START1__\n",
       "1             of   IN   O           O\n",
       "2  demonstrators  NNS   O           O\n",
       "3           have  VBP   O           O\n",
       "4        marched  VBN   O           O"
      ]
     },
     "execution_count": 9,
     "metadata": {
      "tags": []
     },
     "output_type": "execute_result"
    }
   ],
   "source": [
    "dataset = df_ner.loc[:,[\"word\",\"pos\",\"tag\",\"prev-iob\"]]\n",
    "dataset.head()"
   ]
  },
  {
   "cell_type": "code",
   "execution_count": 0,
   "metadata": {
    "colab": {
     "base_uri": "https://localhost:8080/",
     "height": 204
    },
    "colab_type": "code",
    "id": "Mo-Fj8jHZdYT",
    "outputId": "7bdcdbe1-611f-45a2-c35c-a37e84beeec2"
   },
   "outputs": [
    {
     "data": {
      "text/html": [
       "<div>\n",
       "<style scoped>\n",
       "    .dataframe tbody tr th:only-of-type {\n",
       "        vertical-align: middle;\n",
       "    }\n",
       "\n",
       "    .dataframe tbody tr th {\n",
       "        vertical-align: top;\n",
       "    }\n",
       "\n",
       "    .dataframe thead th {\n",
       "        text-align: right;\n",
       "    }\n",
       "</style>\n",
       "<table border=\"1\" class=\"dataframe\">\n",
       "  <thead>\n",
       "    <tr style=\"text-align: right;\">\n",
       "      <th></th>\n",
       "      <th>lemma</th>\n",
       "      <th>pos</th>\n",
       "      <th>tag</th>\n",
       "      <th>prev-iob</th>\n",
       "    </tr>\n",
       "  </thead>\n",
       "  <tbody>\n",
       "    <tr>\n",
       "      <th>0</th>\n",
       "      <td>thousand</td>\n",
       "      <td>NNS</td>\n",
       "      <td>O</td>\n",
       "      <td>__START1__</td>\n",
       "    </tr>\n",
       "    <tr>\n",
       "      <th>1</th>\n",
       "      <td>of</td>\n",
       "      <td>IN</td>\n",
       "      <td>O</td>\n",
       "      <td>O</td>\n",
       "    </tr>\n",
       "    <tr>\n",
       "      <th>2</th>\n",
       "      <td>demonstr</td>\n",
       "      <td>NNS</td>\n",
       "      <td>O</td>\n",
       "      <td>O</td>\n",
       "    </tr>\n",
       "    <tr>\n",
       "      <th>3</th>\n",
       "      <td>have</td>\n",
       "      <td>VBP</td>\n",
       "      <td>O</td>\n",
       "      <td>O</td>\n",
       "    </tr>\n",
       "    <tr>\n",
       "      <th>4</th>\n",
       "      <td>march</td>\n",
       "      <td>VBN</td>\n",
       "      <td>O</td>\n",
       "      <td>O</td>\n",
       "    </tr>\n",
       "  </tbody>\n",
       "</table>\n",
       "</div>"
      ],
      "text/plain": [
       "      lemma  pos tag    prev-iob\n",
       "0  thousand  NNS   O  __START1__\n",
       "1        of   IN   O           O\n",
       "2  demonstr  NNS   O           O\n",
       "3      have  VBP   O           O\n",
       "4     march  VBN   O           O"
      ]
     },
     "execution_count": 10,
     "metadata": {
      "tags": []
     },
     "output_type": "execute_result"
    }
   ],
   "source": [
    "dataset = df_ner.loc[:,[\"lemma\",\"pos\",\"tag\",\"prev-iob\"]]\n",
    "dataset.head()"
   ]
  },
  {
   "cell_type": "markdown",
   "metadata": {
    "colab_type": "text",
    "id": "4MX7zuo1mUVk"
   },
   "source": [
    "Despues de analizar las dos columnas se decide  trabajar con *lemmas*  porque captan el sentido principal de la palabra y son representaaciones mas compactas. Además se eliminan las mayusculas, asi donde palabras que difieren por una letra (mayuscula o miniscula se trataran como iguales). Tambien permite trabaajar mas con el sentido de la palabra que con la forma de escritura. Es decir, diferentes formas de expresar una palabra, ya sea adjetivo o verbo sera de forma mas generica. Reduciendi la dimensionalidad del problema, ya que considerar todos los casos seria algo muy complicado.\n",
    "\n",
    "Como conscecuencia a utilizar estas 4 columas se reduce la dimensión de los datos a 1050794x4.\n",
    "<hr>"
   ]
  },
  {
   "cell_type": "markdown",
   "metadata": {
    "colab_type": "text",
    "id": "CGJQHmdhbxS0"
   },
   "source": [
    "> Luego de esto cree una estructura que contendrá todas las sentencias u oraciones y otra estructura que contendrá los las etiquetas (tags), esto es un arreglo de arreglos de lemmas y un arreglo de arreglos de tags respectivamente. ¿Cuales son las dimensiones de ambas estructuras? ¿Cada dato de ejemplo tiene las mismas dimensiones que el resto?\n",
    "\n"
   ]
  },
  {
   "cell_type": "markdown",
   "metadata": {
    "colab_type": "text",
    "id": "-keFr3tShSgU"
   },
   "source": [
    "En este caso decidimos usar los pos en vez de los tags, debido a que en un principio no nos dimos cuenta que no usamos los tags, realizando toda la tarea con estos. Como no existe suficiente tiempo para entrenar todo de nuevo, lo dejaremos de esta forma."
   ]
  },
  {
   "cell_type": "code",
   "execution_count": 0,
   "metadata": {
    "colab": {},
    "colab_type": "code",
    "id": "B4WfsRa0pOs1"
   },
   "outputs": [],
   "source": [
    "sentence = []\n",
    "labels_sentence = []\n",
    "dataX, dataY = [],[]\n",
    "#uniques\n",
    "lemmas,labels = set(), set()\n",
    "\n",
    "for fila in dataset.values:\n",
    "    if fila[-1]==\"__START1__\": \n",
    "        dataX.append(np.asarray(sentence))\n",
    "        dataY.append(np.asarray(labels_sentence))\n",
    "        sentence = []\n",
    "        labels_sentence = []\n",
    "    lemmas.add(fila[0])\n",
    "    labels.add(fila[1])\n",
    "    sentence.append(fila[0])#add lemma\n",
    "    labels_sentence.append(fila[1]) #POS o TAG\n",
    "#data to  array\n",
    "dataX = np.asarray(dataX[1:])\n",
    "dataY = np.asarray(dataY[1:])"
   ]
  },
  {
   "cell_type": "code",
   "execution_count": 0,
   "metadata": {
    "colab": {
     "base_uri": "https://localhost:8080/",
     "height": 89
    },
    "colab_type": "code",
    "id": "kuRSJchLohPT",
    "outputId": "94bec983-203f-41de-a41a-c352c4920430"
   },
   "outputs": [
    {
     "name": "stdout",
     "output_type": "stream",
     "text": [
      "Cantidad label:  41\n",
      "Cantidad lemma:  20243\n",
      "Tamaño matriz de lemma:  (48081,)\n",
      "Tamaño matriz de label:  (48081,)\n"
     ]
    }
   ],
   "source": [
    "print(\"Cantidad label: \", len(labels))\n",
    "print(\"Cantidad lemma: \", len(lemmas))\n",
    "print(\"Tamaño matriz de lemma: \", dataX.shape)\n",
    "print(\"Tamaño matriz de label: \", dataY.shape)"
   ]
  },
  {
   "cell_type": "markdown",
   "metadata": {
    "colab_type": "text",
    "id": "T7H_T3rdqQyD"
   },
   "source": [
    "La cantidad de labels que hay es 41 y  20.243 lemmas. \n",
    "La cantidad de filas de las matrices X e Y es de 48.081.\n",
    "Las entradas al dataset no tienen igual de largo."
   ]
  },
  {
   "cell_type": "markdown",
   "metadata": {
    "colab_type": "text",
    "id": "MWTNDsocKBNc"
   },
   "source": [
    "\n",
    "\n",
    "---\n",
    "\n",
    "\n",
    "## Pregunta B\n",
    "> Estudie la distribución del largo de los textos a procesar. Estudie también la frecuencia con la que aparecen las palabras en todo el dataset. **¿Se observa una ley Zipf?**[[1]](#refs) Realice un gráfico de la cantidad de datos por clase. Comente.\n"
   ]
  },
  {
   "cell_type": "code",
   "execution_count": 0,
   "metadata": {
    "colab": {
     "base_uri": "https://localhost:8080/",
     "height": 439
    },
    "colab_type": "code",
    "id": "oqpz6gUmpiQt",
    "outputId": "95ec66d2-0ecf-4b29-de56-e3ffccb88b33"
   },
   "outputs": [
    {
     "name": "stderr",
     "output_type": "stream",
     "text": [
      "/usr/local/lib/python3.6/dist-packages/seaborn/categorical.py:454: FutureWarning: remove_na is deprecated and is a private function. Do not use.\n",
      "  box_data = remove_na(group_data)\n"
     ]
    },
    {
     "data": {
      "image/png": "[encoded data removed]",
      "text/plain": [
       "<matplotlib.figure.Figure at 0x7f99cb6a4588>"
      ]
     },
     "metadata": {
      "tags": []
     },
     "output_type": "display_data"
    }
   ],
   "source": [
    "phrases_len = []\n",
    "word_count = dict()\n",
    "for row in dataX:\n",
    "    phrases_len.append(len(row))\n",
    "    for word in row:\n",
    "        if word not in word_count:\n",
    "            word_count[word] = 0\n",
    "        word_count[word] += 1\n",
    "\n",
    "plt.figure(figsize=(12,6))\n",
    "plt.subplot(121)\n",
    "plt.hist(phrases_len, bins=40, color= pink)\n",
    "plt.xlabel(\"Longitud de los textos\")\n",
    "plt.ylabel(\"Número de filas\")\n",
    "plt.title(\"Distribución\")\n",
    "\n",
    "plt.subplot(122)\n",
    "sns.boxplot(phrases_len, labels=[\"Matriz frases\"],orient='v', color = green)\n",
    "plt.title(\"Diagrama de caja largo frases\")\n",
    "plt.show()"
   ]
  },
  {
   "cell_type": "markdown",
   "metadata": {
    "colab_type": "text",
    "id": "N9iYw8AOqpRX"
   },
   "source": [
    "Se realizo un histograma a partir del largo de las sentencias, y un diagrama de caja de las longitudes calculadas."
   ]
  },
  {
   "cell_type": "markdown",
   "metadata": {
    "colab_type": "text",
    "id": "IeCAqiOFtg6h"
   },
   "source": [
    "Los gráficos muestran que las sentencias poseen un largo diferente y existe gran concentración entre 5 y 40, siendo. El diagrama de caja  muestra que existen varios valores con longitudes  outliers después del 40.\n",
    "\n",
    "\n",
    "### Ley de Zipf\n",
    "La llamada ley de Zipf, formulada en la década de 1940 por George Kingsley Zipf, es una ley según la cual en una determinada lengua la frecuencia de aparición de distintas palabras sigue una distribución que puede aproximarse por\n",
    "\\\\[P_n \\sim \\frac{1}{n^a}\\\\]\n",
    "\n",
    "donde $P_n$ representa la frecuencia de la n-ésima palabra más frecuente y el exponente a es un número real positivo, en general ligeramente superior a 1,1. Esto significa que el segundo elemento se repetirá aproximadamente con una frecuencia de 1/2 de la del primero, el tercer elemento con una frecuencia de 1/3 y así sucesivamente. La ley de Zipf se cumple para la mayoría de las lenguas. "
   ]
  },
  {
   "cell_type": "markdown",
   "metadata": {
    "colab_type": "text",
    "id": "OzWCL6QOnuxc"
   },
   "source": [
    "Analizando las frecuencias de las palabras:"
   ]
  },
  {
   "cell_type": "code",
   "execution_count": 0,
   "metadata": {
    "colab": {
     "base_uri": "https://localhost:8080/",
     "height": 376
    },
    "colab_type": "code",
    "id": "I7_5pMVXhs3C",
    "outputId": "2cc28a92-1fbc-472c-9036-c359a02a19ee"
   },
   "outputs": [
    {
     "data": {
      "image/png": "[encoded data removed]",
      "text/plain": [
       "<matplotlib.figure.Figure at 0x7f99c804bf60>"
      ]
     },
     "metadata": {
      "tags": []
     },
     "output_type": "display_data"
    }
   ],
   "source": [
    "freq = sorted(list(word_count.values()), reverse = True)\n",
    "plt.plot(freq, color = pink)\n",
    "plt.grid(True)\n",
    "plt.xlabel(\"nth most frequent word$\")\n",
    "plt.ylabel(\"Frequency\")\n",
    "plt.title(\"Words Frequency\")\n",
    "plt.show()"
   ]
  },
  {
   "cell_type": "markdown",
   "metadata": {
    "colab_type": "text",
    "id": "mtuNQ86NkJXy"
   },
   "source": [
    "Se puede observar que a medida que las palabras tienen más frecuencia, estas se van repitiendo aún más con respecto a la anterior. Para verlo de mejor forma usaremos una escala logaritmica en ambos ejes."
   ]
  },
  {
   "cell_type": "code",
   "execution_count": 0,
   "metadata": {
    "colab": {
     "base_uri": "https://localhost:8080/",
     "height": 380
    },
    "colab_type": "code",
    "id": "sTdvmRFJin_q",
    "outputId": "728168f4-6666-40d6-cdff-a7682b54268c"
   },
   "outputs": [
    {
     "data": {
      "image/png": "[encoded data removed]",
      "text/plain": [
       "<matplotlib.figure.Figure at 0x7f99c89772e8>"
      ]
     },
     "metadata": {
      "tags": []
     },
     "output_type": "display_data"
    }
   ],
   "source": [
    "freq = sorted(list(word_count.values()), reverse = True)\n",
    "plt.loglog(freq, color = green)\n",
    "plt.grid(True)\n",
    "plt.xlabel(\"Log nth most frequent word$\")\n",
    "plt.ylabel(\"Log Frequency\")\n",
    "plt.title(\"Words Frequency\")\n",
    "plt.show()"
   ]
  },
  {
   "cell_type": "markdown",
   "metadata": {
    "colab_type": "text",
    "id": "hiyM_2Z92gk9"
   },
   "source": [
    "Analizando ambos gráficos podemos decir que cumple con la Ley de Zipf, debido a que el logaritmo de la frecuencia va disminuyendo proporcionalmente al logaritmo del ranking de las palabras.\n",
    "\n",
    "Las palabras más comunes son las que tienen menos significado y no aportan al contenido. Palabras menos frecuentes son las que dan más riqueza a una frase."
   ]
  },
  {
   "cell_type": "markdown",
   "metadata": {
    "colab_type": "text",
    "id": "XCFc57C2cTSX"
   },
   "source": [
    "\n",
    "\n",
    "---\n",
    "\n",
    "\n",
    "## Pregunta C\n",
    "\n",
    "> Es necesario transformar los textos para que puedan ser entregados apropiadamente a la red, por lo que será necesario crear una función que codifique cada posible *lemma* a un número y cada posible *tag* a otro número, utilice esta función sobre las sentencias y *tags* ya generados. **Mida cual es el largo máximo de entre todas las sentencias, la cantidad de *lemmas* y etiquetas**. Además de esto, debido al largo distinto de las sentencias se deberá **realizar *padding* para estandarizar el largo**, considere algun carácter especial para codificar el espacio en blanco que luego se le deberá rellenar, por ejemplo si el largo máximo es de 4 y se tiene la sentencia \"the rocket\" codificada como [32,4] será necesario agregar un *lemma* que codificado significará el fin de la sentencia \"the rocket *ENDPAD ENDPAD*\" que codificado quedará como [32,4,*0, 0*]."
   ]
  },
  {
   "cell_type": "markdown",
   "metadata": {
    "colab_type": "text",
    "id": "x-fhTFdYo1AK"
   },
   "source": [
    "Primero, cada lemma y tag se codificaran en un número."
   ]
  },
  {
   "cell_type": "code",
   "execution_count": 0,
   "metadata": {
    "colab": {},
    "colab_type": "code",
    "id": "WTF-UOHZ1ZwZ"
   },
   "outputs": [],
   "source": [
    "lemma2idx = {w: i+1 for i, w in enumerate(lemmas)} #Converting text to numbers\n",
    "lab2idx = {t: i+1 for i, t in enumerate(labels)}"
   ]
  },
  {
   "cell_type": "code",
   "execution_count": 0,
   "metadata": {
    "colab": {},
    "colab_type": "code",
    "id": "jWAd9li8cbzH"
   },
   "outputs": [],
   "source": [
    "data_x = [[lemma2idx[lemma] for lemma in sentence ] for sentence in dataX]\n",
    "data_y = [[lab2idx[ner] for ner in ner_tags ] for ner_tags in dataY]\n",
    "n_lemmas = len(lemmas)\n",
    "n_labels = len(labels)"
   ]
  },
  {
   "cell_type": "code",
   "execution_count": 0,
   "metadata": {
    "colab": {},
    "colab_type": "code",
    "id": "YoVoM2ej8WXE"
   },
   "outputs": [],
   "source": [
    "lemma2idx[\"LEMMAFILLER\"] = 0\n",
    "lab2idx[\"LABELFILLER\"] = 0"
   ]
  },
  {
   "cell_type": "code",
   "execution_count": 0,
   "metadata": {
    "colab": {
     "base_uri": "https://localhost:8080/",
     "height": 89
    },
    "colab_type": "code",
    "id": "mMzaNUs3wKWF",
    "outputId": "d280a285-3a7e-4d57-d2d0-808cb34b4097"
   },
   "outputs": [
    {
     "name": "stdout",
     "output_type": "stream",
     "text": [
      "Cantidad label:  20244\n",
      "Cantidad lemma:  42\n",
      "Tamaño matriz de lemma:  48081\n",
      "Tamaño matriz de label:  48081\n"
     ]
    }
   ],
   "source": [
    "print(\"Cantidad label: \", len(lemma2idx))\n",
    "print(\"Cantidad lemma: \", len(lab2idx))\n",
    "print(\"Tamaño matriz de lemma: \", len(data_x))\n",
    "print(\"Tamaño matriz de label: \", len(data_y))"
   ]
  },
  {
   "cell_type": "markdown",
   "metadata": {
    "colab_type": "text",
    "id": "golEgoHPhZXV"
   },
   "source": [
    "\n",
    "\n",
    "---\n",
    "\n",
    "\n",
    "## Pregunta D\n",
    "> Realice el *padding* anteriormente mencionado, decida sobre qué le parece más conveniente al rellenar con un valor especial respecto al cómo funciona una red recurrente y cómo funciona su memoria **¿Al principio o al final de la sentencia?** Comente"
   ]
  },
  {
   "cell_type": "markdown",
   "metadata": {
    "colab_type": "text",
    "id": "26Hd5QSmpCzY"
   },
   "source": [
    "Debido al largo de la secuencia se realizara padding para estandarizar el largo de la secuencia. El rellenar con un valor especial se realizo al final  de la sentencia, donde no se modifica ningún parámetro solo se agregan ceros a la derecha. Esta decisión de diseño se basa en el resultado con las dos técnicas. \n",
    "\n",
    "En el caso de tareas de predicción de secuencia de longitud variable, esto requiere que sus datos se transformen de manera que cada secuencia tenga la misma longitud. Esta vectorización permite que el código realice de manera eficiente las operaciones matriciales por batch para los algoritmos de deep learning legidos.\n"
   ]
  },
  {
   "cell_type": "code",
   "execution_count": 0,
   "metadata": {
    "colab": {},
    "colab_type": "code",
    "id": "VeWro2LVyu2p"
   },
   "outputs": [],
   "source": [
    "x = sequence.pad_sequences(data_x, maxlen=20, padding='post',value = lemma2idx[\"LEMMAFILLER\"]) \n",
    "y = sequence.pad_sequences(data_y, maxlen=20, padding='post',value = lab2idx[\"LABELFILLER\"])"
   ]
  },
  {
   "cell_type": "code",
   "execution_count": 0,
   "metadata": {
    "colab": {},
    "colab_type": "code",
    "id": "NR03ycaTerK4"
   },
   "outputs": [],
   "source": [
    "x_train_pad, x_test_pad, y_train_pad, y_test_pad = train_test_split(x, y, test_size = 0.3, random_state = 22)"
   ]
  },
  {
   "cell_type": "markdown",
   "metadata": {
    "colab_type": "text",
    "id": "ms_ii4HkW4lk"
   },
   "source": [
    "Se probo en un principio utilizar prepadding, pero los f1scores fueron muy bajos (menos del 1%)."
   ]
  },
  {
   "cell_type": "markdown",
   "metadata": {
    "colab_type": "text",
    "id": "HT8JOIKS-zWK"
   },
   "source": [
    "\n",
    "\n",
    "---\n",
    "\n",
    "\n",
    "## Pregunta E\n",
    "> Para el poder entregar una clasificación sobre los distintos *tags* es necesario tranformarlos a *one hot vectors*, debido a que están codificados en números enteros, esto resultará en un arreglo tridimensional con la cantidad de ejemplos, la cantidad máxima de palabras y la cantidad de posibles *tags*. Luego de esto cree los conjuntos de entrenamiento y de prueba con el código a continuación **¿Cuáles son las dimensiones de entrada y salida de cada conjunto?** Comente"
   ]
  },
  {
   "cell_type": "markdown",
   "metadata": {
    "colab_type": "text",
    "id": "pIvGUmeWsYjZ"
   },
   "source": [
    "Transformación a categorical de cada uno de los tags. Además, se crean los conjuntos de entrenamiento y validación."
   ]
  },
  {
   "cell_type": "code",
   "execution_count": 0,
   "metadata": {
    "colab": {},
    "colab_type": "code",
    "id": "7ApSshDT_AyC"
   },
   "outputs": [],
   "source": [
    "y_cat = np.asarray([to_categorical(i, num_classes = n_labels+1) for i in y])\n",
    "x_train, x_test, y_train, y_test = train_test_split(x, y_cat, test_size = 0.3, random_state = 22)"
   ]
  },
  {
   "cell_type": "markdown",
   "metadata": {
    "colab_type": "text",
    "id": "ub9Uq2L5tBW7"
   },
   "source": [
    "Las dimensiones de **y** y **x**, muestran que estan conformados por 48.081 como el tamaño de la matriz de ejemplos, 20 el número maximo de palabras y 42 la cantidad de posibles tags para asignar. "
   ]
  },
  {
   "cell_type": "code",
   "execution_count": 0,
   "metadata": {
    "colab": {
     "base_uri": "https://localhost:8080/",
     "height": 35
    },
    "colab_type": "code",
    "id": "XfYw0LbV9DXH",
    "outputId": "91593152-5f44-4cbc-e75a-da9eca05159a"
   },
   "outputs": [
    {
     "data": {
      "text/plain": [
       "(48081, 20, 42)"
      ]
     },
     "execution_count": 44,
     "metadata": {
      "tags": []
     },
     "output_type": "execute_result"
    }
   ],
   "source": [
    "y_cat.shape"
   ]
  },
  {
   "cell_type": "code",
   "execution_count": 0,
   "metadata": {
    "colab": {
     "base_uri": "https://localhost:8080/",
     "height": 35
    },
    "colab_type": "code",
    "id": "tkXa9hxo9u7w",
    "outputId": "c79cf566-2844-47e3-e2f7-c21716ec295f"
   },
   "outputs": [
    {
     "data": {
      "text/plain": [
       "(48081, 20)"
      ]
     },
     "execution_count": 45,
     "metadata": {
      "tags": []
     },
     "output_type": "execute_result"
    }
   ],
   "source": [
    "x.shape"
   ]
  },
  {
   "cell_type": "markdown",
   "metadata": {
    "colab_type": "text",
    "id": "ts8Q5oBLtuKH"
   },
   "source": [
    "Para los conjuntos conformados para el entrenamiento y test, se mantienen los parámetros asociados a la cantidad máxima de palabras y la cantidad de tags que se pueden asociar.\n",
    "La cantidad máxima de la matriz de ejemplos estaba conformada por 48.081, pero se asigno el 30% (14.425) al conjunto de test. Esto redujo la cantidad de ejemplos para el train set (33.656). Teniendo en dichos conjuntos las siguientes dimensiones:"
   ]
  },
  {
   "cell_type": "code",
   "execution_count": 0,
   "metadata": {
    "colab": {
     "base_uri": "https://localhost:8080/",
     "height": 35
    },
    "colab_type": "code",
    "id": "8wgTbvLr_a5t",
    "outputId": "16d5250e-63fe-4b3c-9502-6f2128f2aa58"
   },
   "outputs": [
    {
     "data": {
      "text/plain": [
       "(33656, 20)"
      ]
     },
     "execution_count": 46,
     "metadata": {
      "tags": []
     },
     "output_type": "execute_result"
    }
   ],
   "source": [
    "x_train.shape"
   ]
  },
  {
   "cell_type": "code",
   "execution_count": 0,
   "metadata": {
    "colab": {
     "base_uri": "https://localhost:8080/",
     "height": 35
    },
    "colab_type": "code",
    "id": "sohSGEwH_gkA",
    "outputId": "e2501035-ec3e-473d-d0ff-f1f727bc2dd7"
   },
   "outputs": [
    {
     "data": {
      "text/plain": [
       "(14425, 20)"
      ]
     },
     "execution_count": 47,
     "metadata": {
      "tags": []
     },
     "output_type": "execute_result"
    }
   ],
   "source": [
    "x_test.shape"
   ]
  },
  {
   "cell_type": "code",
   "execution_count": 0,
   "metadata": {
    "colab": {
     "base_uri": "https://localhost:8080/",
     "height": 35
    },
    "colab_type": "code",
    "id": "TY9GewEF_h8h",
    "outputId": "72c9bb87-e838-41a6-ac11-140d6ccabd01"
   },
   "outputs": [
    {
     "data": {
      "text/plain": [
       "(33656, 20, 42)"
      ]
     },
     "execution_count": 48,
     "metadata": {
      "tags": []
     },
     "output_type": "execute_result"
    }
   ],
   "source": [
    "y_train.shape"
   ]
  },
  {
   "cell_type": "code",
   "execution_count": 0,
   "metadata": {
    "colab": {
     "base_uri": "https://localhost:8080/",
     "height": 35
    },
    "colab_type": "code",
    "id": "zCY01HRh_j4N",
    "outputId": "44db6250-0e02-49e8-f586-7abcaee92c93"
   },
   "outputs": [
    {
     "data": {
      "text/plain": [
       "(14425, 20, 42)"
      ]
     },
     "execution_count": 49,
     "metadata": {
      "tags": []
     },
     "output_type": "execute_result"
    }
   ],
   "source": [
    "y_test.shape"
   ]
  },
  {
   "cell_type": "markdown",
   "metadata": {
    "colab_type": "text",
    "id": "s28Ekyke_wI4"
   },
   "source": [
    "\n",
    "\n",
    "---\n",
    "\n",
    "\n",
    "## Pregunta F\n",
    "> Defina una red neuronal recurrente *many to many* con compuertas LSTM para aprender a *tagear* la entidad en el texto, entrene y evalúe su desempeño sobre ambos conjuntos. Esta red debe procesar la secuencia de *lemmas* rellenados (o sin rellenar) y entregar el *tag* a cada uno de los *lemmas*, por lo que la salida de la red no es un vector como anteriormente se ha trabajado, sino que tiene una dimensión extra la cual es debido a que en cada instante de tiempo se necesita entregar un *output*. Como los *lemmas* corresponden a datos esencialmente categóricos, o al menos discretos, es necesario generar una representación vectorial de ellas. La primera capa de la red a construir debe por lo tanto incluir una transformación entrenable desde el espacio de representación original (discreto) a ${\\rm I\\!R}^{d}$ , con $d$ la dimensionalidad del *embedding*. **Comente sobre los cambios que sufre un dato al ingresar a la red y la cantidad de parámetros de la red**."
   ]
  },
  {
   "cell_type": "markdown",
   "metadata": {
    "colab_type": "text",
    "id": "RnglViiXCx9b"
   },
   "source": [
    "Se define un modelo con dimensionalidad del embedding igual a 32.\n",
    "\n",
    "\n",
    "Teniendo, $n$ la dimensionalidad de entrada y  $m$ la dimensionalida de salida:\n",
    "*   La primera capa debe ser capaz de procesar la secuencia de entrada, se tiene un espacio de representación original (discreto) a ${\\rm I\\!R}^{Td}$ , con $d$ la dimensionalidad del *embedding y $T$ el tamaño de la entrada. Para este caso, se tiene $T*d$ paŕametros. **Es decir, se obtienen $32*20244 =  647808$**.\n",
    "\n",
    "*   En la segunda capa, por medio de esta expresión $4(nm + n^{2} + n)$, podemos calcular el número de parámetros que se definen en la capa donde se instancia la red LSTM.   ** Para este caso, $4(100*32) + 100^{2} + 100) = 53.200 $ párametros para entrenar**\n",
    "*   En la capa de salida es una capa de una red densa,   $4(nm + n)$. **Para este caso son 42 unidades de salida, $4((10*42) + 10) = 4200$ parámetros para entrenar. **\n",
    "\n",
    "En total, tenemos $705.250$ paŕametros para entrenar.\n",
    "\n",
    "\n",
    "\n",
    "\n",
    "\n"
   ]
  },
  {
   "cell_type": "code",
   "execution_count": 0,
   "metadata": {
    "colab": {
     "base_uri": "https://localhost:8080/",
     "height": 377
    },
    "colab_type": "code",
    "id": "myI7TlB79hGF",
    "outputId": "b61497e3-063c-461e-fc26-0c3740dc7e6c"
   },
   "outputs": [
    {
     "name": "stdout",
     "output_type": "stream",
     "text": [
      "_________________________________________________________________\n",
      "Layer (type)                 Output Shape              Param #   \n",
      "=================================================================\n",
      "embedding_1 (Embedding)      (None, 20, 32)            647808    \n",
      "_________________________________________________________________\n",
      "lstm_1 (LSTM)                (None, 20, 100)           53200     \n",
      "_________________________________________________________________\n",
      "dense_1 (Dense)              (None, 20, 42)            4242      \n",
      "=================================================================\n",
      "Total params: 705,250\n",
      "Trainable params: 705,250\n",
      "Non-trainable params: 0\n",
      "_________________________________________________________________\n",
      "Train on 33656 samples, validate on 14425 samples\n",
      "Epoch 1/3\n",
      "33656/33656 [==============================] - 20s 589us/step - loss: 2.3838 - acc: 0.3820 - val_loss: 1.2589 - val_acc: 0.6795\n",
      "Epoch 2/3\n",
      "33656/33656 [==============================] - 19s 558us/step - loss: 0.6692 - acc: 0.8335 - val_loss: 0.4085 - val_acc: 0.8876\n",
      "Epoch 3/3\n",
      "33656/33656 [==============================] - 19s 562us/step - loss: 0.3277 - acc: 0.9048 - val_loss: 0.3101 - val_acc: 0.9051\n"
     ]
    }
   ],
   "source": [
    "embedding_vector = 32\n",
    "model = Sequential()\n",
    "model.add(Embedding(input_dim = n_lemmas+1, output_dim = embedding_vector, input_length = 20))\n",
    "model.add(LSTM(units=100,return_sequences=True))\n",
    "model.add(Dense(n_labels+1, activation='softmax'))\n",
    "model.summary()\n",
    "model.compile(loss='categorical_crossentropy', optimizer='adam', metrics = [\"acc\"])\n",
    "pd.DataFrame(model.fit(x_train, y_train, validation_data=(x_test, y_test), epochs = 3, batch_size = 128).history).to_csv(\"history_1F.csv\")\n",
    "model.save(\"model_1F.h5\")"
   ]
  },
  {
   "cell_type": "code",
   "execution_count": 0,
   "metadata": {
    "colab": {},
    "colab_type": "code",
    "id": "fzaG0K6l2YA5"
   },
   "outputs": [],
   "source": [
    "model = load_model(\"model_1F.h5\")"
   ]
  },
  {
   "cell_type": "code",
   "execution_count": 0,
   "metadata": {
    "colab": {},
    "colab_type": "code",
    "id": "bEOHAZ9oxGho"
   },
   "outputs": [],
   "source": [
    "y_pred_pad = model.predict_classes(x_test,verbose=0)\n",
    "nonpad = np.nonzero(y_test_pad)\n",
    "y_test_nopad = y_test_pad[nonpad]\n",
    "y_pred_nopad = y_pred_pad[nonpad]"
   ]
  },
  {
   "cell_type": "code",
   "execution_count": 0,
   "metadata": {
    "colab": {
     "base_uri": "https://localhost:8080/",
     "height": 172
    },
    "colab_type": "code",
    "id": "CRKjHfqx4mXp",
    "outputId": "3b7888b9-9201-4da4-91b8-99a41abbf8bd"
   },
   "outputs": [
    {
     "name": "stderr",
     "output_type": "stream",
     "text": [
      "/usr/local/lib/python3.6/dist-packages/sklearn/metrics/classification.py:1143: UndefinedMetricWarning: F-score is ill-defined and being set to 0.0 in labels with no predicted samples.\n",
      "  'precision', 'predicted', average, warn_for)\n",
      "/usr/local/lib/python3.6/dist-packages/sklearn/metrics/classification.py:1145: UndefinedMetricWarning: F-score is ill-defined and being set to 0.0 in labels with no true samples.\n",
      "  'recall', 'true', average, warn_for)\n"
     ]
    },
    {
     "data": {
      "text/html": [
       "<div>\n",
       "<style scoped>\n",
       "    .dataframe tbody tr th:only-of-type {\n",
       "        vertical-align: middle;\n",
       "    }\n",
       "\n",
       "    .dataframe tbody tr th {\n",
       "        vertical-align: top;\n",
       "    }\n",
       "\n",
       "    .dataframe thead th {\n",
       "        text-align: right;\n",
       "    }\n",
       "</style>\n",
       "<table border=\"1\" class=\"dataframe\">\n",
       "  <thead>\n",
       "    <tr style=\"text-align: right;\">\n",
       "      <th></th>\n",
       "      <th>Micro</th>\n",
       "      <th>Macro</th>\n",
       "      <th>Weighted</th>\n",
       "    </tr>\n",
       "  </thead>\n",
       "  <tbody>\n",
       "    <tr>\n",
       "      <th>F1 Score</th>\n",
       "      <td>0.891842</td>\n",
       "      <td>0.734236</td>\n",
       "      <td>0.890765</td>\n",
       "    </tr>\n",
       "  </tbody>\n",
       "</table>\n",
       "</div>"
      ],
      "text/plain": [
       "             Micro     Macro  Weighted\n",
       "F1 Score  0.891842  0.734236  0.890765"
      ]
     },
     "execution_count": 359,
     "metadata": {
      "tags": []
     },
     "output_type": "execute_result"
    }
   ],
   "source": [
    "pd.DataFrame(np.array([f1_score(y_test_nopad, y_pred_nopad, average = \"micro\"),\n",
    "                       f1_score(y_test_nopad, y_pred_nopad, average = \"macro\"),\n",
    "                       f1_score(y_test_nopad, y_pred_nopad, average = \"weighted\")]).reshape(1, 3), columns = [\"Micro\", \"Macro\", \"Weighted\"], index = [\"F1 Score\"])"
   ]
  },
  {
   "cell_type": "markdown",
   "metadata": {
    "colab_type": "text",
    "id": "s7uiPFPtKuor"
   },
   "source": [
    "En el análisis estadístico de la clasificación binaria,  F1 score es una medida de la precisión de una prueba.Considera tanto la precisión p como la recuperación r de la prueba para calcular la puntuación: p es el número de resultados positivos correctos dividido por el número de todos los resultados positivos devueltos por el clasificador, y r es el número de resultados positivos correctos dividido por el número de todas las muestras relevantes (todas las muestras que deberían haberse identificado como positivas).El puntaje de F1 es el promedio armónico de la precisión y el recuerdo, donde un puntaje de F1 alcanza su mejor valor en 1 (precisión perfecta y recordatorio) y el peor en 0.\n",
    "Por lo que para este caso, nuestro F1 score es muy bueno  $0.8918$."
   ]
  },
  {
   "cell_type": "markdown",
   "metadata": {
    "colab_type": "text",
    "id": "JiI6WvLOlviR"
   },
   "source": [
    "En relación al F1 score este podría no ser muy preciso al no tener en cuenta el peso de las clases. Para que este indicador fuese más certero se debisen agregar los pesos de las clases al entrenamiento. Como no se tienen suficiente tiempo como para entrenar toda la tarea con los pesos de las clases, omitiremos este paso y se seguira analizando el F1 score micro."
   ]
  },
  {
   "cell_type": "markdown",
   "metadata": {
    "colab_type": "text",
    "id": "kDnA1j_pcDE3"
   },
   "source": [
    "\n",
    "\n",
    "---\n",
    "\n",
    "\n",
    "## Pregunta G\n",
    " \n",
    " > Varı́e la dimensionalidad del embedding inicial y determine si **aumenta o disminuye el error de clasificación**. Comente.\n"
   ]
  },
  {
   "cell_type": "code",
   "execution_count": 0,
   "metadata": {
    "colab": {
     "base_uri": "https://localhost:8080/",
     "height": 2897
    },
    "colab_type": "code",
    "id": "xWI4hOsDc_rH",
    "outputId": "1bdc238b-888d-4860-8683-f9e51770938b"
   },
   "outputs": [
    {
     "name": "stdout",
     "output_type": "stream",
     "text": [
      "_________________________________________________________________\n",
      "Layer (type)                 Output Shape              Param #   \n",
      "=================================================================\n",
      "embedding_3 (Embedding)      (None, 20, 2)             40488     \n",
      "_________________________________________________________________\n",
      "lstm_3 (LSTM)                (None, 20, 100)           41200     \n",
      "_________________________________________________________________\n",
      "dense_3 (Dense)              (None, 20, 42)            4242      \n",
      "=================================================================\n",
      "Total params: 85,930\n",
      "Trainable params: 85,930\n",
      "Non-trainable params: 0\n",
      "_________________________________________________________________\n",
      "Train on 33656 samples, validate on 14425 samples\n",
      "Epoch 1/3\n",
      "33656/33656 [==============================] - 30s 889us/step - loss: 2.8218 - acc: 0.2188 - val_loss: 2.4987 - val_acc: 0.3277\n",
      "Epoch 2/3\n",
      "33656/33656 [==============================] - 21s 634us/step - loss: 2.1525 - acc: 0.4001 - val_loss: 1.7534 - val_acc: 0.4716\n",
      "Epoch 3/3\n",
      "33656/33656 [==============================] - 21s 635us/step - loss: 1.5010 - acc: 0.5471 - val_loss: 1.2503 - val_acc: 0.6254\n",
      "_________________________________________________________________\n",
      "Layer (type)                 Output Shape              Param #   \n",
      "=================================================================\n",
      "embedding_4 (Embedding)      (None, 20, 4)             80976     \n",
      "_________________________________________________________________\n",
      "lstm_4 (LSTM)                (None, 20, 100)           42000     \n",
      "_________________________________________________________________\n",
      "dense_4 (Dense)              (None, 20, 42)            4242      \n",
      "=================================================================\n",
      "Total params: 127,218\n",
      "Trainable params: 127,218\n",
      "Non-trainable params: 0\n",
      "_________________________________________________________________\n",
      "Train on 33656 samples, validate on 14425 samples\n",
      "Epoch 1/3\n",
      "33656/33656 [==============================] - 29s 873us/step - loss: 2.7896 - acc: 0.2388 - val_loss: 2.4191 - val_acc: 0.3453\n",
      "Epoch 2/3\n",
      "33656/33656 [==============================] - 22s 646us/step - loss: 1.9434 - acc: 0.4722 - val_loss: 1.4516 - val_acc: 0.5764\n",
      "Epoch 3/3\n",
      "33656/33656 [==============================] - 22s 644us/step - loss: 1.1423 - acc: 0.6710 - val_loss: 0.9119 - val_acc: 0.7544\n",
      "_________________________________________________________________\n",
      "Layer (type)                 Output Shape              Param #   \n",
      "=================================================================\n",
      "embedding_5 (Embedding)      (None, 20, 8)             161952    \n",
      "_________________________________________________________________\n",
      "lstm_5 (LSTM)                (None, 20, 100)           43600     \n",
      "_________________________________________________________________\n",
      "dense_5 (Dense)              (None, 20, 42)            4242      \n",
      "=================================================================\n",
      "Total params: 209,794\n",
      "Trainable params: 209,794\n",
      "Non-trainable params: 0\n",
      "_________________________________________________________________\n",
      "Train on 33656 samples, validate on 14425 samples\n",
      "Epoch 1/3\n",
      "33656/33656 [==============================] - 30s 894us/step - loss: 2.7276 - acc: 0.2533 - val_loss: 2.2279 - val_acc: 0.3877\n",
      "Epoch 2/3\n",
      "33656/33656 [==============================] - 23s 674us/step - loss: 1.5344 - acc: 0.5694 - val_loss: 1.0151 - val_acc: 0.7202\n",
      "Epoch 3/3\n",
      "33656/33656 [==============================] - 23s 670us/step - loss: 0.7533 - acc: 0.8029 - val_loss: 0.5798 - val_acc: 0.8474\n",
      "_________________________________________________________________\n",
      "Layer (type)                 Output Shape              Param #   \n",
      "=================================================================\n",
      "embedding_6 (Embedding)      (None, 20, 16)            323904    \n",
      "_________________________________________________________________\n",
      "lstm_6 (LSTM)                (None, 20, 100)           46800     \n",
      "_________________________________________________________________\n",
      "dense_6 (Dense)              (None, 20, 42)            4242      \n",
      "=================================================================\n",
      "Total params: 374,946\n",
      "Trainable params: 374,946\n",
      "Non-trainable params: 0\n",
      "_________________________________________________________________\n",
      "Train on 33656 samples, validate on 14425 samples\n",
      "Epoch 1/3\n",
      "33656/33656 [==============================] - 32s 945us/step - loss: 2.6104 - acc: 0.3062 - val_loss: 1.9184 - val_acc: 0.4840\n",
      "Epoch 2/3\n",
      "33656/33656 [==============================] - 24s 699us/step - loss: 1.2079 - acc: 0.6753 - val_loss: 0.6991 - val_acc: 0.8241\n",
      "Epoch 3/3\n",
      "33656/33656 [==============================] - 24s 702us/step - loss: 0.4879 - acc: 0.8710 - val_loss: 0.3932 - val_acc: 0.8882\n",
      "_________________________________________________________________\n",
      "Layer (type)                 Output Shape              Param #   \n",
      "=================================================================\n",
      "embedding_7 (Embedding)      (None, 20, 32)            647808    \n",
      "_________________________________________________________________\n",
      "lstm_7 (LSTM)                (None, 20, 100)           53200     \n",
      "_________________________________________________________________\n",
      "dense_7 (Dense)              (None, 20, 42)            4242      \n",
      "=================================================================\n",
      "Total params: 705,250\n",
      "Trainable params: 705,250\n",
      "Non-trainable params: 0\n",
      "_________________________________________________________________\n",
      "Train on 33656 samples, validate on 14425 samples\n",
      "Epoch 1/3\n",
      "33656/33656 [==============================] - 34s 1ms/step - loss: 2.4301 - acc: 0.3691 - val_loss: 1.4351 - val_acc: 0.6258\n",
      "Epoch 2/3\n",
      "33656/33656 [==============================] - 26s 762us/step - loss: 0.7943 - acc: 0.7980 - val_loss: 0.4489 - val_acc: 0.8821\n",
      "Epoch 3/3\n",
      "33656/33656 [==============================] - 26s 761us/step - loss: 0.3512 - acc: 0.8998 - val_loss: 0.3213 - val_acc: 0.9027\n",
      "_________________________________________________________________\n",
      "Layer (type)                 Output Shape              Param #   \n",
      "=================================================================\n",
      "embedding_8 (Embedding)      (None, 20, 64)            1295616   \n",
      "_________________________________________________________________\n",
      "lstm_8 (LSTM)                (None, 20, 100)           66000     \n",
      "_________________________________________________________________\n",
      "dense_8 (Dense)              (None, 20, 42)            4242      \n",
      "=================================================================\n",
      "Total params: 1,365,858\n",
      "Trainable params: 1,365,858\n",
      "Non-trainable params: 0\n",
      "_________________________________________________________________\n",
      "Train on 33656 samples, validate on 14425 samples\n",
      "Epoch 1/3\n",
      "33656/33656 [==============================] - 38s 1ms/step - loss: 1.9470 - acc: 0.5032 - val_loss: 0.6772 - val_acc: 0.8414\n",
      "Epoch 2/3\n",
      "33656/33656 [==============================] - 30s 890us/step - loss: 0.4210 - acc: 0.8887 - val_loss: 0.3278 - val_acc: 0.9021\n",
      "Epoch 3/3\n",
      "33656/33656 [==============================] - 30s 888us/step - loss: 0.2701 - acc: 0.9158 - val_loss: 0.2753 - val_acc: 0.9111\n",
      "_________________________________________________________________\n",
      "Layer (type)                 Output Shape              Param #   \n",
      "=================================================================\n",
      "embedding_9 (Embedding)      (None, 20, 128)           2591232   \n",
      "_________________________________________________________________\n",
      "lstm_9 (LSTM)                (None, 20, 100)           91600     \n",
      "_________________________________________________________________\n",
      "dense_9 (Dense)              (None, 20, 42)            4242      \n",
      "=================================================================\n",
      "Total params: 2,687,074\n",
      "Trainable params: 2,687,074\n",
      "Non-trainable params: 0\n",
      "_________________________________________________________________\n",
      "Train on 33656 samples, validate on 14425 samples\n",
      "Epoch 1/3\n",
      "33656/33656 [==============================] - 49s 1ms/step - loss: 1.6874 - acc: 0.5827 - val_loss: 0.4632 - val_acc: 0.8788\n",
      "Epoch 2/3\n",
      "33656/33656 [==============================] - 41s 1ms/step - loss: 0.3295 - acc: 0.9040 - val_loss: 0.2886 - val_acc: 0.9093\n",
      "Epoch 3/3\n",
      "33656/33656 [==============================] - 40s 1ms/step - loss: 0.2377 - acc: 0.9226 - val_loss: 0.2556 - val_acc: 0.9156\n",
      "_________________________________________________________________\n",
      "Layer (type)                 Output Shape              Param #   \n",
      "=================================================================\n",
      "embedding_10 (Embedding)     (None, 20, 256)           5182464   \n",
      "_________________________________________________________________\n",
      "lstm_10 (LSTM)               (None, 20, 100)           142800    \n",
      "_________________________________________________________________\n",
      "dense_10 (Dense)             (None, 20, 42)            4242      \n",
      "=================================================================\n",
      "Total params: 5,329,506\n",
      "Trainable params: 5,329,506\n",
      "Non-trainable params: 0\n",
      "_________________________________________________________________\n",
      "Train on 33656 samples, validate on 14425 samples\n",
      "Epoch 1/3\n",
      "33656/33656 [==============================] - 70s 2ms/step - loss: 1.3873 - acc: 0.6621 - val_loss: 0.3673 - val_acc: 0.8946\n",
      "Epoch 2/3\n",
      "33656/33656 [==============================] - 61s 2ms/step - loss: 0.2808 - acc: 0.9135 - val_loss: 0.2642 - val_acc: 0.9142\n",
      "Epoch 3/3\n",
      "33656/33656 [==============================] - 61s 2ms/step - loss: 0.2134 - acc: 0.9284 - val_loss: 0.2400 - val_acc: 0.9197\n"
     ]
    }
   ],
   "source": [
    "histories_1G = dict()\n",
    "models_1G = []\n",
    "for embedding_vector in [2, 4, 8, 16, 32, 64, 128, 256]:\n",
    "    model = Sequential()\n",
    "    model.add(Embedding(input_dim = n_lemmas+1, output_dim = embedding_vector, input_length = 20))\n",
    "    model.add(LSTM(units=100,return_sequences=True))\n",
    "    model.add(Dense(n_labels+1, activation='softmax'))\n",
    "    model.summary()\n",
    "    model.compile(loss='categorical_crossentropy', optimizer='adam', metrics = [\"acc\"])\n",
    "    histories_1G[embedding_vector] = pd.DataFrame(model.fit(x_train, y_train, validation_data=(x_test, y_test), epochs = 3, batch_size = 128).history)\n",
    "    models_1G.append(model)"
   ]
  },
  {
   "cell_type": "code",
   "execution_count": 0,
   "metadata": {
    "colab": {},
    "colab_type": "code",
    "id": "XL3N9uMpp3OB"
   },
   "outputs": [],
   "source": [
    "pd.concat(histories_1G).to_csv(\"histories_1G.csv\")"
   ]
  },
  {
   "cell_type": "code",
   "execution_count": 0,
   "metadata": {
    "colab": {},
    "colab_type": "code",
    "id": "464Ul-Mgq7G2"
   },
   "outputs": [],
   "source": [
    "for i in range(len(models_1G)):\n",
    "    models_1G[i].save(\"model_1G_\"+str(i)+\".h5\")"
   ]
  },
  {
   "cell_type": "code",
   "execution_count": 0,
   "metadata": {
    "colab": {},
    "colab_type": "code",
    "id": "mTSJGZxgqRtZ"
   },
   "outputs": [],
   "source": [
    "histories_1G = pd.read_csv(\"histories_1G.csv\", dtype={'Unnamed: 0':int,'Unnamed: 1':int,'val_loss':float,\n",
    "                                                    'loss': float}, index_col=[0,1], skipinitialspace=True)"
   ]
  },
  {
   "cell_type": "code",
   "execution_count": 0,
   "metadata": {
    "colab": {},
    "colab_type": "code",
    "id": "_z4RrcR67mqs"
   },
   "outputs": [],
   "source": [
    "models_1G = []\n",
    "for i in range(8):\n",
    "    models_1G.append(load_model(\"model_1G_\"+str(i)+\".h5\"))"
   ]
  },
  {
   "cell_type": "markdown",
   "metadata": {
    "colab_type": "text",
    "id": "PiOOqBO6mVgr"
   },
   "source": [
    "Se realizan las gráficas de la variación de longitud de los embeddings contro el error de clasificación."
   ]
  },
  {
   "cell_type": "code",
   "execution_count": 0,
   "metadata": {
    "colab": {
     "base_uri": "https://localhost:8080/",
     "height": 512
    },
    "colab_type": "code",
    "id": "Jc_tkFFUqllI",
    "outputId": "3733cddf-f01a-485e-a993-fd6d2e76cb8c"
   },
   "outputs": [
    {
     "data": {
      "image/png": "[encoded data removed]",
      "text/plain": [
       "<matplotlib.figure.Figure at 0x7f2de1780cf8>"
      ]
     },
     "metadata": {
      "tags": []
     },
     "output_type": "display_data"
    }
   ],
   "source": [
    "embeddings = [2, 4, 8, 16, 32, 64, 128, 256]\n",
    "\n",
    "plt.figure(figsize=(14, 8))\n",
    "epochs = plt.plot(embeddings, [histories_1G[\"val_loss\"][e] for e in embeddings])\n",
    "plt.legend(epochs, [\"epoch 1\", \"epoch 2\", \"epoch 3\"])\n",
    "plt.ylabel(\"Classification Error in validation set\")\n",
    "plt.xlabel(\"Embedding vector\")\n",
    "plt.title(\"Classification Error vs Embedding vector\")\n",
    "plt.show()"
   ]
  },
  {
   "cell_type": "markdown",
   "metadata": {
    "colab_type": "text",
    "id": "yD8agmusmgaR"
   },
   "source": [
    "Se realizan las gráficas de la variación de longitud de los embeddings contro la exactitud del algoritmo."
   ]
  },
  {
   "cell_type": "code",
   "execution_count": 0,
   "metadata": {
    "colab": {
     "base_uri": "https://localhost:8080/",
     "height": 512
    },
    "colab_type": "code",
    "id": "ETrdLofOu5W8",
    "outputId": "6ed1b2b6-1b85-4b54-e7b4-5f3878de6af8"
   },
   "outputs": [
    {
     "data": {
      "image/png": "[encoded data removed]",
      "text/plain": [
       "<matplotlib.figure.Figure at 0x7f2de1807908>"
      ]
     },
     "metadata": {
      "tags": []
     },
     "output_type": "display_data"
    }
   ],
   "source": [
    "plt.figure(figsize=(14, 8))\n",
    "epochs = plt.plot(embeddings, [histories_1G[\"val_acc\"][e] for e in embeddings])\n",
    "plt.legend(epochs, [\"epoch 1\", \"epoch 2\", \"epoch 3\"])\n",
    "plt.ylabel(\"Classification accuracy in validation set\")\n",
    "plt.xlabel(\"Embedding vector\")\n",
    "plt.title(\"Classification accuracy vs Embedding vector\")\n",
    "plt.show()"
   ]
  },
  {
   "cell_type": "code",
   "execution_count": 0,
   "metadata": {
    "colab": {
     "base_uri": "https://localhost:8080/",
     "height": 109
    },
    "colab_type": "code",
    "id": "isNqyWtAvPer",
    "outputId": "17b9144e-d784-4063-f4a0-346f6a07818c"
   },
   "outputs": [
    {
     "name": "stderr",
     "output_type": "stream",
     "text": [
      "/usr/local/lib/python3.6/dist-packages/sklearn/metrics/classification.py:1143: UndefinedMetricWarning: F-score is ill-defined and being set to 0.0 in labels with no predicted samples.\n",
      "  'precision', 'predicted', average, warn_for)\n",
      "/usr/local/lib/python3.6/dist-packages/sklearn/metrics/classification.py:1145: UndefinedMetricWarning: F-score is ill-defined and being set to 0.0 in labels with no true samples.\n",
      "  'recall', 'true', average, warn_for)\n"
     ]
    }
   ],
   "source": [
    "f1_scores = []\n",
    "for model in models_1G:\n",
    "    y_pred_pad = model.predict_classes(x_test,verbose=0)\n",
    "    nonpad = np.nonzero(y_test_pad)\n",
    "    y_test_nopad = y_test_pad[nonpad]\n",
    "    y_pred_nopad = y_pred_pad[nonpad]\n",
    "    f1_scores.append(f1_score(y_test_nopad, y_pred_nopad, average = \"weighted\"))"
   ]
  },
  {
   "cell_type": "code",
   "execution_count": 0,
   "metadata": {
    "colab": {
     "base_uri": "https://localhost:8080/",
     "height": 512
    },
    "colab_type": "code",
    "id": "PlBVFNcTv8Wm",
    "outputId": "8d8860a2-2f2a-4f23-f5eb-bd805a77f751"
   },
   "outputs": [
    {
     "data": {
      "image/png": "[encoded data removed]",
      "text/plain": [
       "<matplotlib.figure.Figure at 0x7f2de1637940>"
      ]
     },
     "metadata": {
      "tags": []
     },
     "output_type": "display_data"
    }
   ],
   "source": [
    "embeddings = [2, 4, 8, 16, 32, 64, 128, 256]\n",
    "plt.figure(figsize=(14, 8))\n",
    "plt.plot(embeddings, f1_scores, color = pink)\n",
    "plt.ylabel(\"F1 score\")\n",
    "plt.xlabel(\"Embedding vector\")\n",
    "plt.title(\"F1 score per embedding vector\")\n",
    "plt.show()"
   ]
  },
  {
   "cell_type": "markdown",
   "metadata": {
    "colab_type": "text",
    "id": "e00SB-akmmLt"
   },
   "source": [
    "Podemos concluir que a medida que aumentamos el embedding vector aumenta el F1 score y el accuracy de validación. Este aumenta muy rapido para valores pequeños de embedding, y muy lento para valores pequeños, llegando a ser insignificante. Es por esto que aumentar el embedding por encima de los 128 no es beneficioso pues no presenta mayores mejoras."
   ]
  },
  {
   "cell_type": "markdown",
   "metadata": {
    "colab_type": "text",
    "id": "KZaG7exekwbc"
   },
   "source": [
    "\n",
    "\n",
    "---\n",
    "\n",
    "\n",
    "## Pregunta H\n",
    "> Use *Dropout* para entrenar la LSTM. **¿El *Dropout* mejora el desempeño de la red?** Señale cuáles podrı́an ser las causas del comportamiento observado."
   ]
  },
  {
   "cell_type": "code",
   "execution_count": 0,
   "metadata": {
    "colab": {
     "base_uri": "https://localhost:8080/",
     "height": 143
    },
    "colab_type": "code",
    "id": "KTdr2d7J1VEw",
    "outputId": "e8caa5d0-1187-4e94-f2bd-f94bd6f6fc71"
   },
   "outputs": [
    {
     "name": "stdout",
     "output_type": "stream",
     "text": [
      "Train on 33656 samples, validate on 14425 samples\n",
      "Epoch 1/3\n",
      "33656/33656 [==============================] - 45s 1ms/step - loss: 2.4049 - acc: 0.3482 - val_loss: 1.3047 - val_acc: 0.6352\n",
      "Epoch 2/3\n",
      "33656/33656 [==============================] - 37s 1ms/step - loss: 0.7480 - acc: 0.8041 - val_loss: 0.4484 - val_acc: 0.8792\n",
      "Epoch 3/3\n",
      "33656/33656 [==============================] - 29s 867us/step - loss: 0.3693 - acc: 0.8954 - val_loss: 0.3240 - val_acc: 0.9019\n"
     ]
    }
   ],
   "source": [
    "model = Sequential()\n",
    "model.add(Embedding(input_dim = n_lemmas + 1, output_dim = 32, input_length = 20))\n",
    "model.add(LSTM(units = 100, return_sequences = True))\n",
    "model.add(Dropout(0.2))\n",
    "model.add(Dense(n_labels + 1, activation = 'softmax'))\n",
    "model.compile(loss = 'categorical_crossentropy', optimizer='adam', metrics = [\"acc\"])\n",
    "pd.DataFrame(model.fit(x_train, y_train, validation_data=(x_test, y_test), epochs = 3, batch_size=128).history).to_csv(\"history_1H.csv\")\n",
    "model.save(\"model_1H.h5\")"
   ]
  },
  {
   "cell_type": "code",
   "execution_count": 0,
   "metadata": {
    "colab": {},
    "colab_type": "code",
    "id": "D_2oQrbt-N3Q"
   },
   "outputs": [],
   "source": [
    "model = load_model(\"model_1H.h5\")"
   ]
  },
  {
   "cell_type": "code",
   "execution_count": 0,
   "metadata": {
    "colab": {
     "base_uri": "https://localhost:8080/",
     "height": 172
    },
    "colab_type": "code",
    "id": "YyBvrmph4NwQ",
    "outputId": "44cda015-27c1-40c5-ed30-73b93257c804"
   },
   "outputs": [
    {
     "name": "stderr",
     "output_type": "stream",
     "text": [
      "/usr/local/lib/python3.6/dist-packages/sklearn/metrics/classification.py:1143: UndefinedMetricWarning: F-score is ill-defined and being set to 0.0 in labels with no predicted samples.\n",
      "  'precision', 'predicted', average, warn_for)\n",
      "/usr/local/lib/python3.6/dist-packages/sklearn/metrics/classification.py:1145: UndefinedMetricWarning: F-score is ill-defined and being set to 0.0 in labels with no true samples.\n",
      "  'recall', 'true', average, warn_for)\n"
     ]
    },
    {
     "data": {
      "text/html": [
       "<div>\n",
       "<style scoped>\n",
       "    .dataframe tbody tr th:only-of-type {\n",
       "        vertical-align: middle;\n",
       "    }\n",
       "\n",
       "    .dataframe tbody tr th {\n",
       "        vertical-align: top;\n",
       "    }\n",
       "\n",
       "    .dataframe thead th {\n",
       "        text-align: right;\n",
       "    }\n",
       "</style>\n",
       "<table border=\"1\" class=\"dataframe\">\n",
       "  <thead>\n",
       "    <tr style=\"text-align: right;\">\n",
       "      <th></th>\n",
       "      <th>Micro</th>\n",
       "      <th>Macro</th>\n",
       "      <th>Weighted</th>\n",
       "    </tr>\n",
       "  </thead>\n",
       "  <tbody>\n",
       "    <tr>\n",
       "      <th>F1 Score</th>\n",
       "      <td>0.892633</td>\n",
       "      <td>0.743498</td>\n",
       "      <td>0.892158</td>\n",
       "    </tr>\n",
       "  </tbody>\n",
       "</table>\n",
       "</div>"
      ],
      "text/plain": [
       "             Micro     Macro  Weighted\n",
       "F1 Score  0.892633  0.743498  0.892158"
      ]
     },
     "execution_count": 373,
     "metadata": {
      "tags": []
     },
     "output_type": "execute_result"
    }
   ],
   "source": [
    "y_pred_pad = model.predict_classes(x_test,verbose=0)\n",
    "nonpad = np.nonzero(y_test_pad)\n",
    "y_test_nopad = y_test_pad[nonpad]\n",
    "y_pred_nopad = y_pred_pad[nonpad]\n",
    "pd.DataFrame(np.array([f1_score(y_test_nopad, y_pred_nopad, average = \"micro\"),\n",
    "                       f1_score(y_test_nopad, y_pred_nopad, average = \"macro\"),\n",
    "                       f1_score(y_test_nopad, y_pred_nopad, average = \"weighted\")]).reshape(1, 3), columns = [\"Micro\", \"Macro\", \"Weighted\"], index = [\"F1 Score\"])"
   ]
  },
  {
   "cell_type": "code",
   "execution_count": 0,
   "metadata": {
    "colab": {
     "base_uri": "https://localhost:8080/",
     "height": 512
    },
    "colab_type": "code",
    "id": "USWqGE6P4htN",
    "outputId": "6848cb99-593b-467d-bc60-1e6e140abd15"
   },
   "outputs": [
    {
     "data": {
      "image/png": "[encoded data removed]",
      "text/plain": [
       "<matplotlib.figure.Figure at 0x7f2ddf9b9c18>"
      ]
     },
     "metadata": {
      "tags": []
     },
     "output_type": "display_data"
    }
   ],
   "source": [
    "history_1F = pd.read_csv(\"history_1F.csv\")\n",
    "history_1H = pd.read_csv(\"history_1H.csv\")\n",
    "plt.figure(figsize=(14, 8))\n",
    "plt.plot([1, 2, 3], history_1F[\"val_loss\"], color = pink, label = \"Val loss without dropout\")\n",
    "plt.plot([1, 2, 3], history_1F[\"loss\"], color = pink, linestyle = '-.', label = \"Loss without dropout\")\n",
    "plt.plot([1, 2, 3], history_1H[\"val_loss\"], color = green, label = \"Val loss with dropout\")\n",
    "plt.plot([1, 2, 3], history_1H[\"loss\"], color = green, linestyle = '-.', label = \"Loss with dropout\")\n",
    "plt.legend()\n",
    "plt.xlabel(\"Epochs\")\n",
    "plt.ylabel(\"Loss\")\n",
    "plt.title(\"Loss per epoch in model with and without dropout\")\n",
    "plt.show()"
   ]
  },
  {
   "cell_type": "code",
   "execution_count": 0,
   "metadata": {
    "colab": {
     "base_uri": "https://localhost:8080/",
     "height": 512
    },
    "colab_type": "code",
    "id": "KNBDTsFP7gaM",
    "outputId": "58ad6e2d-471f-48ad-861f-03236b9f72ad"
   },
   "outputs": [
    {
     "data": {
      "image/png": "[encoded data removed]",
      "text/plain": [
       "<matplotlib.figure.Figure at 0x7f2ddf9bd550>"
      ]
     },
     "metadata": {
      "tags": []
     },
     "output_type": "display_data"
    }
   ],
   "source": [
    "history_1F = pd.read_csv(\"history_1F.csv\")\n",
    "history_1H = pd.read_csv(\"history_1H.csv\")\n",
    "plt.figure(figsize=(14, 8))\n",
    "plt.plot([1, 2, 3], history_1F[\"val_acc\"], color = pink, label = \"Val accuracy without dropout\")\n",
    "plt.plot([1, 2, 3], history_1F[\"acc\"], color = pink, linestyle = '-.', label = \"Accuracy without dropout\")\n",
    "plt.plot([1, 2, 3], history_1H[\"val_acc\"], color = green, label = \"Val accuracy with dropout\")\n",
    "plt.plot([1, 2, 3], history_1H[\"acc\"], color = green, linestyle = '-.', label = \"Accuracy with dropout\")\n",
    "plt.legend()\n",
    "plt.xlabel(\"Epochs\")\n",
    "plt.ylabel(\"Accuracy\")\n",
    "plt.title(\"Accuracy per epoch in model with and without dropout\")\n",
    "plt.show()"
   ]
  },
  {
   "cell_type": "markdown",
   "metadata": {
    "colab_type": "text",
    "id": "F5HCJytnJLMb"
   },
   "source": [
    "En base a los resultados, utilizar un método como dropout para regularizar los datos no siginifico mejoras importantes en la exactitud del algoritmo. En las redes recurrentes se usa este valor fijo, y no un valor por capas porque todas están conectadas entre sí, lo que conduciriía a tener mas parámetros. "
   ]
  },
  {
   "cell_type": "markdown",
   "metadata": {
    "colab_type": "text",
    "id": "7HLaM8Elo6Su"
   },
   "source": [
    "\n",
    "\n",
    "---\n",
    "\n",
    "\n",
    "## Pregunta I\n",
    "> Algunos autores señalan la importante dependencia que existe en texto, no solo con las palabras anteriores, sino que con las que siguen.Mejore la red definida en f) utilizando una red neuronal recurrente Bidireccional, es decir, con recurrencia en ambas direcciones sobre la secuencia de lemmas de entrada. Comente cuál debiera ser la forma correcta de usar el parámetro merge_mode (concatenar, multiplicar, sumar o promediar) para este caso. Además comente las transformaciones que sufre el patrón de entrada al pasar por las capas. ¿Mejora o empeora el desempeño? Analice."
   ]
  },
  {
   "cell_type": "code",
   "execution_count": 0,
   "metadata": {
    "colab": {
     "base_uri": "https://localhost:8080/",
     "height": 1457
    },
    "colab_type": "code",
    "id": "bBnEMclQOEVZ",
    "outputId": "2070352b-78fe-4bf6-be5d-5d079d97fbf8"
   },
   "outputs": [
    {
     "name": "stdout",
     "output_type": "stream",
     "text": [
      "_________________________________________________________________\n",
      "Layer (type)                 Output Shape              Param #   \n",
      "=================================================================\n",
      "embedding_12 (Embedding)     (None, 20, 32)            647808    \n",
      "_________________________________________________________________\n",
      "bidirectional_1 (Bidirection (None, 20, 100)           106400    \n",
      "_________________________________________________________________\n",
      "dense_12 (Dense)             (None, 20, 42)            4242      \n",
      "=================================================================\n",
      "Total params: 758,450\n",
      "Trainable params: 758,450\n",
      "Non-trainable params: 0\n",
      "_________________________________________________________________\n",
      "Train on 33656 samples, validate on 14425 samples\n",
      "Epoch 1/3\n",
      "33656/33656 [==============================] - 55s 2ms/step - loss: 2.3437 - acc: 0.3809 - val_loss: 1.1687 - val_acc: 0.7084\n",
      "Epoch 2/3\n",
      "33656/33656 [==============================] - 42s 1ms/step - loss: 0.6723 - acc: 0.8330 - val_loss: 0.4261 - val_acc: 0.8846\n",
      "Epoch 3/3\n",
      "33656/33656 [==============================] - 42s 1ms/step - loss: 0.3287 - acc: 0.9069 - val_loss: 0.2998 - val_acc: 0.9104\n",
      "_________________________________________________________________\n",
      "Layer (type)                 Output Shape              Param #   \n",
      "=================================================================\n",
      "embedding_13 (Embedding)     (None, 20, 32)            647808    \n",
      "_________________________________________________________________\n",
      "bidirectional_2 (Bidirection (None, 20, 100)           106400    \n",
      "_________________________________________________________________\n",
      "dense_13 (Dense)             (None, 20, 42)            4242      \n",
      "=================================================================\n",
      "Total params: 758,450\n",
      "Trainable params: 758,450\n",
      "Non-trainable params: 0\n",
      "_________________________________________________________________\n",
      "Train on 33656 samples, validate on 14425 samples\n",
      "Epoch 1/3\n",
      "33656/33656 [==============================] - 55s 2ms/step - loss: 1.9103 - acc: 0.4897 - val_loss: 0.6221 - val_acc: 0.8370\n",
      "Epoch 2/3\n",
      "33656/33656 [==============================] - 42s 1ms/step - loss: 0.3766 - acc: 0.8909 - val_loss: 0.2843 - val_acc: 0.9119\n",
      "Epoch 3/3\n",
      "33656/33656 [==============================] - 42s 1ms/step - loss: 0.2292 - acc: 0.9281 - val_loss: 0.2282 - val_acc: 0.9260\n",
      "_________________________________________________________________\n",
      "Layer (type)                 Output Shape              Param #   \n",
      "=================================================================\n",
      "embedding_14 (Embedding)     (None, 20, 32)            647808    \n",
      "_________________________________________________________________\n",
      "bidirectional_3 (Bidirection (None, 20, 200)           106400    \n",
      "_________________________________________________________________\n",
      "dense_14 (Dense)             (None, 20, 42)            8442      \n",
      "=================================================================\n",
      "Total params: 762,650\n",
      "Trainable params: 762,650\n",
      "Non-trainable params: 0\n",
      "_________________________________________________________________\n",
      "Train on 33656 samples, validate on 14425 samples\n",
      "Epoch 1/3\n",
      "33656/33656 [==============================] - 57s 2ms/step - loss: 1.9948 - acc: 0.4679 - val_loss: 0.7086 - val_acc: 0.8242\n",
      "Epoch 2/3\n",
      "33656/33656 [==============================] - 43s 1ms/step - loss: 0.3972 - acc: 0.8895 - val_loss: 0.2855 - val_acc: 0.9130\n",
      "Epoch 3/3\n",
      "33656/33656 [==============================] - 42s 1ms/step - loss: 0.2305 - acc: 0.9287 - val_loss: 0.2319 - val_acc: 0.9260\n",
      "_________________________________________________________________\n",
      "Layer (type)                 Output Shape              Param #   \n",
      "=================================================================\n",
      "embedding_15 (Embedding)     (None, 20, 32)            647808    \n",
      "_________________________________________________________________\n",
      "bidirectional_4 (Bidirection (None, 20, 100)           106400    \n",
      "_________________________________________________________________\n",
      "dense_15 (Dense)             (None, 20, 42)            4242      \n",
      "=================================================================\n",
      "Total params: 758,450\n",
      "Trainable params: 758,450\n",
      "Non-trainable params: 0\n",
      "_________________________________________________________________\n",
      "Train on 33656 samples, validate on 14425 samples\n",
      "Epoch 1/3\n",
      "33656/33656 [==============================] - 56s 2ms/step - loss: 2.2685 - acc: 0.3887 - val_loss: 1.1267 - val_acc: 0.7062\n",
      "Epoch 2/3\n",
      "33656/33656 [==============================] - 42s 1ms/step - loss: 0.5826 - acc: 0.8495 - val_loss: 0.3492 - val_acc: 0.9003\n",
      "Epoch 3/3\n",
      "33656/33656 [==============================] - 42s 1ms/step - loss: 0.2728 - acc: 0.9202 - val_loss: 0.2511 - val_acc: 0.9233\n"
     ]
    }
   ],
   "source": [
    "embedding_vector = 32\n",
    "\n",
    "for merge_mode in ['mul','sum', 'concat', 'ave']:\n",
    "    model = Sequential()\n",
    "    model.add(Embedding(input_dim=n_lemmas + 1, output_dim=embedding_vector, input_length = 20))\n",
    "    layer_lstm = LSTM(units=100,return_sequences=True)\n",
    "    model.add(Bidirectional(layer_lstm, merge_mode = merge_mode))\n",
    "    model.add(Dense(n_labels + 1, activation='softmax'))\n",
    "    model.summary()\n",
    "    model.compile(loss='categorical_crossentropy', optimizer='adam', metrics = [\"acc\"])\n",
    "    pd.DataFrame(model.fit(x_train, y_train, validation_data=(x_test, y_test), epochs=3, batch_size=128).history).to_csv(\"history_1I_\"+merge_mode+\".csv\")\n",
    "    model.save(\"model_1I_\"+merge_mode+\".h5\")"
   ]
  },
  {
   "cell_type": "code",
   "execution_count": 0,
   "metadata": {
    "colab": {},
    "colab_type": "code",
    "id": "G2M89iHERpEC"
   },
   "outputs": [],
   "source": [
    "histories_1I= dict()\n",
    "for merge_mode in ['mul','sum', 'concat', 'ave']:\n",
    "    histories_1I[merge_mode] = pd.read_csv(\"history_1I_\"+merge_mode+\".csv\").drop(\"Unnamed: 0\", axis = 1)"
   ]
  },
  {
   "cell_type": "code",
   "execution_count": 0,
   "metadata": {
    "colab": {
     "base_uri": "https://localhost:8080/",
     "height": 89
    },
    "colab_type": "code",
    "id": "ij71kVe0SAfr",
    "outputId": "4d343e23-412b-44f9-c09c-2b693cd7af06"
   },
   "outputs": [
    {
     "data": {
      "text/plain": [
       "0    2.343711\n",
       "1    0.672252\n",
       "2    0.328715\n",
       "Name: loss, dtype: float64"
      ]
     },
     "execution_count": 378,
     "metadata": {
      "tags": []
     },
     "output_type": "execute_result"
    }
   ],
   "source": [
    "histories_1I[\"mul\"][\"loss\"]"
   ]
  },
  {
   "cell_type": "code",
   "execution_count": 0,
   "metadata": {
    "colab": {
     "base_uri": "https://localhost:8080/",
     "height": 512
    },
    "colab_type": "code",
    "id": "y4p24raaSOdB",
    "outputId": "a8067256-4b10-4b9e-baf5-6ff2e73b592c"
   },
   "outputs": [
    {
     "data": {
      "image/png": "[encoded data removed]",
      "text/plain": [
       "<matplotlib.figure.Figure at 0x7f2de0579860>"
      ]
     },
     "metadata": {
      "tags": []
     },
     "output_type": "display_data"
    }
   ],
   "source": [
    "fig, ax = plt.subplots(1, 2, sharey=True, figsize=(16, 8))\n",
    "\n",
    "ax[0].plot([1, 2, 3], histories_1I[\"mul\"][\"loss\"], color = pink, label = \"Multiply\")\n",
    "ax[0].plot([1, 2, 3], histories_1I[\"sum\"][\"loss\"], color = green, label = \"Sum\")\n",
    "ax[0].plot([1, 2, 3], histories_1I[\"concat\"][\"loss\"], color =  orange, label = \"Concatenate\")\n",
    "ax[0].plot([1, 2, 3], histories_1I[\"ave\"][\"loss\"], color = blue, label = \"Average\")\n",
    "ax[0].set_xlabel(\"Epochs\")\n",
    "ax[0].set_ylabel(\"Loss\")\n",
    "ax[0].set_title(\"Training Loss\")\n",
    "\n",
    "ax[1].plot([1, 2, 3], histories_1I[\"mul\"][\"val_loss\"], color = pink, label = \"Multiply\")\n",
    "ax[1].plot([1, 2, 3], histories_1I[\"sum\"][\"val_loss\"], color = green, label = \"Sum\")\n",
    "ax[1].plot([1, 2, 3], histories_1I[\"concat\"][\"val_loss\"], color =  orange, label = \"Concatenate\")\n",
    "ax[1].plot([1, 2, 3], histories_1I[\"ave\"][\"val_loss\"], color = blue, label = \"Average\")\n",
    "ax[1].set_xlabel(\"Epochs\")\n",
    "ax[1].set_ylabel(\"Loss\")\n",
    "ax[1].set_title(\"Validation Loss\")\n",
    "ax[1].legend()\n",
    "\n",
    "plt.show()"
   ]
  },
  {
   "cell_type": "code",
   "execution_count": 0,
   "metadata": {
    "colab": {
     "base_uri": "https://localhost:8080/",
     "height": 80
    },
    "colab_type": "code",
    "id": "aBfS9ctOYxiI",
    "outputId": "1fab6d4c-643c-4a01-abcf-0585eda0bac6"
   },
   "outputs": [
    {
     "data": {
      "text/html": [
       "<div>\n",
       "<style scoped>\n",
       "    .dataframe tbody tr th:only-of-type {\n",
       "        vertical-align: middle;\n",
       "    }\n",
       "\n",
       "    .dataframe tbody tr th {\n",
       "        vertical-align: top;\n",
       "    }\n",
       "\n",
       "    .dataframe thead th {\n",
       "        text-align: right;\n",
       "    }\n",
       "</style>\n",
       "<table border=\"1\" class=\"dataframe\">\n",
       "  <thead>\n",
       "    <tr style=\"text-align: right;\">\n",
       "      <th></th>\n",
       "      <th>mul</th>\n",
       "      <th>sum</th>\n",
       "      <th>concat</th>\n",
       "      <th>ave</th>\n",
       "    </tr>\n",
       "  </thead>\n",
       "  <tbody>\n",
       "    <tr>\n",
       "      <th>val_loss</th>\n",
       "      <td>0.299757</td>\n",
       "      <td>0.228152</td>\n",
       "      <td>0.231914</td>\n",
       "      <td>0.251063</td>\n",
       "    </tr>\n",
       "  </tbody>\n",
       "</table>\n",
       "</div>"
      ],
      "text/plain": [
       "               mul       sum    concat       ave\n",
       "val_loss  0.299757  0.228152  0.231914  0.251063"
      ]
     },
     "execution_count": 380,
     "metadata": {
      "tags": []
     },
     "output_type": "execute_result"
    }
   ],
   "source": [
    "pd.DataFrame([[histories_1I[merge_mode][\"val_loss\"][2] for merge_mode in ['mul','sum', 'concat', 'ave']], ], columns = ['mul','sum', 'concat', 'ave'], index = [\"val_loss\"])"
   ]
  },
  {
   "cell_type": "code",
   "execution_count": 0,
   "metadata": {
    "colab": {
     "base_uri": "https://localhost:8080/",
     "height": 512
    },
    "colab_type": "code",
    "id": "U3p9r8LPVuX0",
    "outputId": "4b36220b-7f06-45a2-fede-0ea831acd512"
   },
   "outputs": [
    {
     "data": {
      "image/png": "[encoded data removed]",
      "text/plain": [
       "<matplotlib.figure.Figure at 0x7f2dd9f16a90>"
      ]
     },
     "metadata": {
      "tags": []
     },
     "output_type": "display_data"
    }
   ],
   "source": [
    "fig, ax = plt.subplots(1, 2, sharey=True, figsize=(16, 8))\n",
    "\n",
    "ax[0].plot([1, 2, 3], histories_1I[\"mul\"][\"acc\"], color = pink, label = \"Multiply\")\n",
    "ax[0].plot([1, 2, 3], histories_1I[\"sum\"][\"acc\"], color = green, label = \"Sum\")\n",
    "ax[0].plot([1, 2, 3], histories_1I[\"concat\"][\"acc\"], color =  orange, label = \"Concatenate\")\n",
    "ax[0].plot([1, 2, 3], histories_1I[\"ave\"][\"acc\"], color = blue, label = \"Average\")\n",
    "ax[0].set_xlabel(\"Epochs\")\n",
    "ax[0].set_ylabel(\"Accuracy\")\n",
    "ax[0].set_title(\"Training Accuracy\")\n",
    "\n",
    "ax[1].plot([1, 2, 3], histories_1I[\"mul\"][\"val_acc\"], color = pink, label = \"Multiply\")\n",
    "ax[1].plot([1, 2, 3], histories_1I[\"sum\"][\"val_acc\"], color = green, label = \"Sum\")\n",
    "ax[1].plot([1, 2, 3], histories_1I[\"concat\"][\"val_acc\"], color =  orange, label = \"Concatenate\")\n",
    "ax[1].plot([1, 2, 3], histories_1I[\"ave\"][\"val_acc\"], color = blue, label = \"Average\")\n",
    "ax[1].set_xlabel(\"Epochs\")\n",
    "ax[1].set_ylabel(\"Accuracy\")\n",
    "ax[1].set_title(\"Validation Accuracy\")\n",
    "ax[0].legend()\n",
    "\n",
    "plt.show()"
   ]
  },
  {
   "cell_type": "markdown",
   "metadata": {
    "colab_type": "text",
    "id": "TLGKSsyJHavu"
   },
   "source": [
    "La forma correcta en la  cuál debiera de ser usado el parámetro merge_mode es concatenando, desde el punto de vista lógico ya que no tendría sentido sacar promedio o sumas sobre las  sentencias. Pero los resultados muestran que también con sumas se obtienen buenos resultados. En ese caso, se puede decir que la red aprende a mezclar y generar rerpesentaciones validas."
   ]
  },
  {
   "cell_type": "code",
   "execution_count": 0,
   "metadata": {
    "colab": {
     "base_uri": "https://localhost:8080/",
     "height": 80
    },
    "colab_type": "code",
    "id": "cJ1TtDE6X-jY",
    "outputId": "ba4d6173-b93b-4d3a-cee9-d3949341b8e5"
   },
   "outputs": [
    {
     "data": {
      "text/html": [
       "<div>\n",
       "<style scoped>\n",
       "    .dataframe tbody tr th:only-of-type {\n",
       "        vertical-align: middle;\n",
       "    }\n",
       "\n",
       "    .dataframe tbody tr th {\n",
       "        vertical-align: top;\n",
       "    }\n",
       "\n",
       "    .dataframe thead th {\n",
       "        text-align: right;\n",
       "    }\n",
       "</style>\n",
       "<table border=\"1\" class=\"dataframe\">\n",
       "  <thead>\n",
       "    <tr style=\"text-align: right;\">\n",
       "      <th></th>\n",
       "      <th>mul</th>\n",
       "      <th>sum</th>\n",
       "      <th>concat</th>\n",
       "      <th>ave</th>\n",
       "    </tr>\n",
       "  </thead>\n",
       "  <tbody>\n",
       "    <tr>\n",
       "      <th>val_acc</th>\n",
       "      <td>0.91043</td>\n",
       "      <td>0.92599</td>\n",
       "      <td>0.925976</td>\n",
       "      <td>0.923269</td>\n",
       "    </tr>\n",
       "  </tbody>\n",
       "</table>\n",
       "</div>"
      ],
      "text/plain": [
       "             mul      sum    concat       ave\n",
       "val_acc  0.91043  0.92599  0.925976  0.923269"
      ]
     },
     "execution_count": 382,
     "metadata": {
      "tags": []
     },
     "output_type": "execute_result"
    }
   ],
   "source": [
    "pd.DataFrame([[histories_1I[merge_mode][\"val_acc\"][2] for merge_mode in ['mul','sum', 'concat', 'ave']], ], columns = ['mul','sum', 'concat', 'ave'], index = [\"val_acc\"])"
   ]
  },
  {
   "cell_type": "code",
   "execution_count": 0,
   "metadata": {
    "colab": {},
    "colab_type": "code",
    "id": "eFaztnmDWb-M"
   },
   "outputs": [],
   "source": [
    "models_1I = dict()\n",
    "for merge_mode in ['mul','sum', 'concat', 'ave']:\n",
    "    models_1I[merge_mode] = load_model(\"model_1I_\"+merge_mode+\".h5\")"
   ]
  },
  {
   "cell_type": "code",
   "execution_count": 0,
   "metadata": {
    "colab": {},
    "colab_type": "code",
    "id": "0VmDQkllWROA"
   },
   "outputs": [],
   "source": [
    "f1_scores = []\n",
    "for model in models_1I.values():\n",
    "    y_pred_pad = model.predict_classes(x_test,verbose=0)\n",
    "    nonpad = np.nonzero(y_test_pad)\n",
    "    y_test_nopad = y_test_pad[nonpad]\n",
    "    y_pred_nopad = y_pred_pad[nonpad]\n",
    "    f1_scores.append(f1_score(y_test_nopad, y_pred_nopad, average = \"micro\"))"
   ]
  },
  {
   "cell_type": "code",
   "execution_count": 0,
   "metadata": {
    "colab": {
     "base_uri": "https://localhost:8080/",
     "height": 89
    },
    "colab_type": "code",
    "id": "3-oakayk7RHz",
    "outputId": "207494b9-eb1f-4f19-a6bb-7efa4710f00c"
   },
   "outputs": [
    {
     "data": {
      "text/plain": [
       "[0.8987976815226757,\n",
       " 0.9163820787968983,\n",
       " 0.9163624970627399,\n",
       " 0.9133038301872014]"
      ]
     },
     "execution_count": 398,
     "metadata": {
      "tags": []
     },
     "output_type": "execute_result"
    }
   ],
   "source": [
    "f1_scores"
   ]
  },
  {
   "cell_type": "code",
   "execution_count": 0,
   "metadata": {
    "colab": {
     "base_uri": "https://localhost:8080/",
     "height": 512
    },
    "colab_type": "code",
    "id": "PIVdTvm_XTGJ",
    "outputId": "73c57e29-cb27-4697-bf74-cdfe3e14dd6f"
   },
   "outputs": [
    {
     "data": {
      "image/png": "[encoded data removed]",
      "text/plain": [
       "<matplotlib.figure.Figure at 0x7f2dd9fc2dd8>"
      ]
     },
     "metadata": {
      "tags": []
     },
     "output_type": "display_data"
    }
   ],
   "source": [
    "plt.figure(figsize=(14, 8))\n",
    "plt.bar(['mul','sum', 'concat', 'ave'], f1_scores, color = pink)\n",
    "plt.ylabel(\"F1 score\")\n",
    "plt.xlabel(\"Merge mode\")\n",
    "plt.title(\"F1 score per merge mode\")\n",
    "plt.ylim([0.89, 0.92])\n",
    "plt.show()"
   ]
  },
  {
   "cell_type": "markdown",
   "metadata": {
    "colab_type": "text",
    "id": "dooy60ZnZG8h"
   },
   "source": [
    "De todos los analisis realizados podemos concluir que el merge mode más adecuado para el caso es concatenar, debido a que es el que tienen mejor F1 score y menor error de validación. Además, la lógica nos dice que es la manera de merge más adecuada para el problema, debido a el manejo de palabras."
   ]
  },
  {
   "cell_type": "markdown",
   "metadata": {
    "colab_type": "text",
    "id": "PaNDk6lL_l4x"
   },
   "source": [
    "\n",
    "\n",
    "---\n",
    "\n",
    "\n",
    "## Pregunta J\n",
    "> Recientemente se ha implementado la capa de *Masking* en las redes recurrentes en *keras*, lo cual podría traer gran ayuda gracias al *padding* que se realiza con el símbolo especial definido. **Entrene la red definida en f) y compare al utilizar esta funcionalidad de enmascarar el valor 0 en este caso para el *default* de la capa *embedding***, comente sobre las curvas de entrenamiento y los tiempos de entrenamiento."
   ]
  },
  {
   "cell_type": "code",
   "execution_count": 0,
   "metadata": {
    "colab": {
     "base_uri": "https://localhost:8080/",
     "height": 377
    },
    "colab_type": "code",
    "id": "wP-KLHNr_tWm",
    "outputId": "511d2dff-2e0d-4a6f-9e99-b528c1f262c1"
   },
   "outputs": [
    {
     "name": "stdout",
     "output_type": "stream",
     "text": [
      "_________________________________________________________________\n",
      "Layer (type)                 Output Shape              Param #   \n",
      "=================================================================\n",
      "embedding_2 (Embedding)      (None, 20, 32)            647808    \n",
      "_________________________________________________________________\n",
      "lstm_2 (LSTM)                (None, 20, 100)           53200     \n",
      "_________________________________________________________________\n",
      "dense_2 (Dense)              (None, 20, 42)            4242      \n",
      "=================================================================\n",
      "Total params: 705,250\n",
      "Trainable params: 705,250\n",
      "Non-trainable params: 0\n",
      "_________________________________________________________________\n",
      "Train on 33656 samples, validate on 14425 samples\n",
      "Epoch 1/3\n",
      "33656/33656 [==============================] - 26s 761us/step - loss: 2.3954 - acc: 0.3762 - val_loss: 1.1877 - val_acc: 0.6911\n",
      "Epoch 2/3\n",
      "33656/33656 [==============================] - 24s 723us/step - loss: 0.6668 - acc: 0.8284 - val_loss: 0.4512 - val_acc: 0.8755\n",
      "Epoch 3/3\n",
      "33656/33656 [==============================] - 24s 722us/step - loss: 0.3622 - acc: 0.8949 - val_loss: 0.3433 - val_acc: 0.8950\n"
     ]
    }
   ],
   "source": [
    "embedding_vector = 32\n",
    "model = Sequential()\n",
    "model.add(Embedding(input_dim = n_lemmas+1, output_dim = embedding_vector, input_length = 20, mask_zero=True))\n",
    "model.add(LSTM(units=100,return_sequences=True))\n",
    "model.add(Dense(n_labels+1, activation='softmax'))\n",
    "model.summary()\n",
    "model.compile(loss='categorical_crossentropy', optimizer='adam', metrics = [\"acc\"])\n",
    "pd.DataFrame(model.fit(x_train, y_train, validation_data=(x_test, y_test), epochs = 3, batch_size = 128).history).to_csv(\"history_1J.csv\")\n",
    "model.save(\"model_1J.h5\")"
   ]
  },
  {
   "cell_type": "code",
   "execution_count": 0,
   "metadata": {
    "colab": {},
    "colab_type": "code",
    "id": "5Vy9icZ1MAII"
   },
   "outputs": [],
   "source": [
    "history_1F = pd.read_csv(\"history_1F.csv\")\n",
    "history_1J = pd.read_csv(\"history_1J.csv\")"
   ]
  },
  {
   "cell_type": "code",
   "execution_count": 0,
   "metadata": {
    "colab": {
     "base_uri": "https://localhost:8080/",
     "height": 512
    },
    "colab_type": "code",
    "id": "lA2cPfkpMI7X",
    "outputId": "1cee090e-6769-4db3-859a-97fe916fe0b6"
   },
   "outputs": [
    {
     "data": {
      "image/png": "[encoded data removed]",
      "text/plain": [
       "<matplotlib.figure.Figure at 0x7f2dd2ab8208>"
      ]
     },
     "metadata": {
      "tags": []
     },
     "output_type": "display_data"
    }
   ],
   "source": [
    "plt.figure(figsize=(14, 8))\n",
    "plt.plot([1, 2, 3], history_1F[\"val_loss\"], color = pink, label = \"Val loss without masking\")\n",
    "plt.plot([1, 2, 3], history_1F[\"loss\"], color = pink, linestyle = '-.', label = \"Loss without masking\")\n",
    "plt.plot([1, 2, 3], history_1J[\"val_loss\"], color = blue, label = \"Val loss with masking\")\n",
    "plt.plot([1, 2, 3], history_1J[\"loss\"], color = blue, linestyle = '-.', label = \"Loss with masking\")\n",
    "plt.legend()\n",
    "plt.xlabel(\"Epochs\")\n",
    "plt.ylabel(\"Loss\")\n",
    "plt.title(\"Loss in model with and without masking zeros\")\n",
    "plt.show()"
   ]
  },
  {
   "cell_type": "code",
   "execution_count": 0,
   "metadata": {
    "colab": {
     "base_uri": "https://localhost:8080/",
     "height": 512
    },
    "colab_type": "code",
    "id": "yFVSYl1VMdVZ",
    "outputId": "ebd173c2-fa5a-46f0-f928-cab70d5ce1c8"
   },
   "outputs": [
    {
     "data": {
      "image/png": "[encoded data removed]",
      "text/plain": [
       "<matplotlib.figure.Figure at 0x7f2dd2a8af98>"
      ]
     },
     "metadata": {
      "tags": []
     },
     "output_type": "display_data"
    }
   ],
   "source": [
    "plt.figure(figsize=(14, 8))\n",
    "plt.plot([1, 2, 3], history_1F[\"val_acc\"], color = pink, label = \"Val accuracy without masking\")\n",
    "plt.plot([1, 2, 3], history_1F[\"acc\"], color = pink, linestyle = '-.', label = \"Accuracy without masking\")\n",
    "plt.plot([1, 2, 3], history_1J[\"val_acc\"], color = blue, label = \"Val accuracy with masking\")\n",
    "plt.plot([1, 2, 3], history_1J[\"acc\"], color = blue, linestyle = '-.', label = \"Accuracy with masking\")\n",
    "plt.legend()\n",
    "plt.xlabel(\"Epochs\")\n",
    "plt.ylabel(\"Accuracy\")\n",
    "plt.title(\"Accuracy in model with and without masking zeros\")\n",
    "plt.show()"
   ]
  },
  {
   "cell_type": "code",
   "execution_count": 0,
   "metadata": {
    "colab": {},
    "colab_type": "code",
    "id": "GwAhZYGgYGWg"
   },
   "outputs": [],
   "source": [
    "model_1F = load_model(\"model_1F.h5\")\n",
    "model_1J = load_model(\"model_1J.h5\")"
   ]
  },
  {
   "cell_type": "code",
   "execution_count": 0,
   "metadata": {
    "colab": {},
    "colab_type": "code",
    "id": "z1EPXdA4YwdD"
   },
   "outputs": [],
   "source": [
    "f1_scores = []\n",
    "for model in (model_1F, model_1J):\n",
    "    y_pred_pad = model.predict_classes(x_test,verbose=0)\n",
    "    nonpad = np.nonzero(y_test_pad)\n",
    "    y_test_nopad = y_test_pad[nonpad]\n",
    "    y_pred_nopad = y_pred_pad[nonpad]\n",
    "    f1_scores.append(f1_score(y_test_nopad, y_pred_nopad, average = \"micro\"))"
   ]
  },
  {
   "cell_type": "code",
   "execution_count": 0,
   "metadata": {
    "colab": {
     "base_uri": "https://localhost:8080/",
     "height": 80
    },
    "colab_type": "code",
    "id": "xXgEYiWt3G5R",
    "outputId": "dece1875-9dc8-40f6-83c6-f9e958ab5cef"
   },
   "outputs": [
    {
     "data": {
      "text/html": [
       "<div>\n",
       "<style scoped>\n",
       "    .dataframe tbody tr th:only-of-type {\n",
       "        vertical-align: middle;\n",
       "    }\n",
       "\n",
       "    .dataframe tbody tr th {\n",
       "        vertical-align: top;\n",
       "    }\n",
       "\n",
       "    .dataframe thead th {\n",
       "        text-align: right;\n",
       "    }\n",
       "</style>\n",
       "<table border=\"1\" class=\"dataframe\">\n",
       "  <thead>\n",
       "    <tr style=\"text-align: right;\">\n",
       "      <th></th>\n",
       "      <th>Without</th>\n",
       "      <th>With</th>\n",
       "    </tr>\n",
       "  </thead>\n",
       "  <tbody>\n",
       "    <tr>\n",
       "      <th>F1 score</th>\n",
       "      <td>0.892904</td>\n",
       "      <td>0.894983</td>\n",
       "    </tr>\n",
       "  </tbody>\n",
       "</table>\n",
       "</div>"
      ],
      "text/plain": [
       "           Without      With\n",
       "F1 score  0.892904  0.894983"
      ]
     },
     "execution_count": 91,
     "metadata": {
      "tags": []
     },
     "output_type": "execute_result"
    }
   ],
   "source": [
    "pd.DataFrame(np.array(f1_scores).reshape(1, 2), columns = [\"Without\", \"With\"], index=[\"F1 score\"])"
   ]
  },
  {
   "cell_type": "code",
   "execution_count": 0,
   "metadata": {
    "colab": {
     "base_uri": "https://localhost:8080/",
     "height": 498
    },
    "colab_type": "code",
    "id": "x2XgowRCY_rQ",
    "outputId": "12ffbceb-20c2-407c-ece2-c700105fd940"
   },
   "outputs": [
    {
     "data": {
      "image/png": "[encoded data removed]",
      "text/plain": [
       "<matplotlib.figure.Figure at 0x7fbb82ecf128>"
      ]
     },
     "metadata": {
      "tags": []
     },
     "output_type": "display_data"
    }
   ],
   "source": [
    "plt.figure(figsize=(14, 8))\n",
    "plt.bar(['Without Masking','With masking'], f1_scores, color = pink)\n",
    "plt.ylabel(\"F1 score\")\n",
    "plt.title(\"F1 score with and without masking\")\n",
    "plt.ylim([0.89, 0.896])\n",
    "plt.show()"
   ]
  },
  {
   "cell_type": "markdown",
   "metadata": {
    "colab_type": "text",
    "id": "dHcN7DO7Ak0s"
   },
   "source": [
    "Podemos apreciar que el accuracy de validación es mayor  y el error de validación es menor sin masking. Pero al calcular el F1 score se obtiene que con masking tenemos el mayor. En este caso no podemos confiar tanto en el F1 score debido al problema de los pesos de las clases. Además el masking haría que se ignore el padding, por lo tanto, lo lógico sería que el rendimiento del modelo se viera afectado negativamente."
   ]
  },
  {
   "cell_type": "markdown",
   "metadata": {
    "colab_type": "text",
    "id": "CVSUh3e1Ardl"
   },
   "source": [
    "\n",
    "\n",
    "---\n",
    "\n",
    "\n",
    "## Pregunta K\n",
    "\n",
    "> En base a lo experimentado, **intente mejorar el desempeño de las redes encontradas**, ya sea utilizando y combinando las distintas variaciones que se hicieron en los distintos ítemes, como bien alguna mejora en el pre-proceso de los datos (largo de secuencia, el tipo de *padding* o alguna otra), agregar mayor profundidad, variar el número de unidades/neuronas, utilizando otra *gate* de recurrencia (GRU o Vanilla/Simple), en https://keras.io/layers/recurrent/,  entre otras."
   ]
  },
  {
   "cell_type": "markdown",
   "metadata": {
    "colab_type": "text",
    "id": "pqu9G_U3FHzp"
   },
   "source": [
    "Ahora realizaremos diferentes experiementos  para mejorar el desempeño de la red, probaremos un modelo con LSTM, uno con GRU y finalmente un modelo de RNN  simple."
   ]
  },
  {
   "cell_type": "markdown",
   "metadata": {
    "colab_type": "text",
    "id": "6vcObiknvLpv"
   },
   "source": [
    "### Model with LSTM (200 utins), Bidirectional with concatenate and embedding vector 128"
   ]
  },
  {
   "cell_type": "code",
   "execution_count": 0,
   "metadata": {
    "colab": {
     "base_uri": "https://localhost:8080/",
     "height": 377
    },
    "colab_type": "code",
    "id": "yLY_31SyA-qy",
    "outputId": "18435b52-6d69-4614-9c0c-8d07efdeaf75"
   },
   "outputs": [
    {
     "name": "stdout",
     "output_type": "stream",
     "text": [
      "_________________________________________________________________\n",
      "Layer (type)                 Output Shape              Param #   \n",
      "=================================================================\n",
      "embedding_3 (Embedding)      (None, 20, 128)           2591232   \n",
      "_________________________________________________________________\n",
      "bidirectional_3 (Bidirection (None, 20, 400)           526400    \n",
      "_________________________________________________________________\n",
      "dense_3 (Dense)              (None, 20, 42)            16842     \n",
      "=================================================================\n",
      "Total params: 3,134,474\n",
      "Trainable params: 3,134,474\n",
      "Non-trainable params: 0\n",
      "_________________________________________________________________\n",
      "Train on 33656 samples, validate on 14425 samples\n",
      "Epoch 1/3\n",
      "33656/33656 [==============================] - 37s 1ms/step - loss: 1.3106 - acc: 0.6503 - val_loss: 0.2972 - val_acc: 0.9088\n",
      "Epoch 2/3\n",
      "33656/33656 [==============================] - 34s 1ms/step - loss: 0.2220 - acc: 0.9290 - val_loss: 0.2038 - val_acc: 0.9328\n",
      "Epoch 3/3\n",
      "33656/33656 [==============================] - 33s 994us/step - loss: 0.1598 - acc: 0.9466 - val_loss: 0.1808 - val_acc: 0.9402\n"
     ]
    }
   ],
   "source": [
    "model = Sequential()\n",
    "model.add(Embedding(input_dim = n_lemmas+1, output_dim = 128, input_length = 20))\n",
    "layer_lstm = LSTM(units=200,return_sequences=True)\n",
    "model.add(Bidirectional(layer_lstm, merge_mode = \"concat\"))\n",
    "model.add(Dense(n_labels+1, activation='softmax'))\n",
    "model.summary()\n",
    "model.compile(loss='categorical_crossentropy', optimizer='adam', metrics = [\"acc\"])\n",
    "pd.DataFrame(model.fit(x_train, y_train, validation_data=(x_test, y_test), epochs = 3, batch_size = 128).history).to_csv(\"history_1K_LSTM.csv\")\n",
    "model.save(\"model_1K_LSTM.h5\")"
   ]
  },
  {
   "cell_type": "code",
   "execution_count": 0,
   "metadata": {
    "colab": {},
    "colab_type": "code",
    "id": "QlthSMTXqSAN"
   },
   "outputs": [],
   "source": [
    "history_1K = pd.read_csv(\"history_1K_LSTM.csv\").drop(\"Unnamed: 0\", axis = 1)\n",
    "model_1K = load_model(\"model_1K_LSTM.h5\")"
   ]
  },
  {
   "cell_type": "code",
   "execution_count": 0,
   "metadata": {
    "colab": {
     "base_uri": "https://localhost:8080/",
     "height": 142
    },
    "colab_type": "code",
    "id": "lsdlnHpidJs-",
    "outputId": "26bde0c5-4cc2-4f86-c027-a25f6ab28720"
   },
   "outputs": [
    {
     "data": {
      "text/html": [
       "<div>\n",
       "<style scoped>\n",
       "    .dataframe tbody tr th:only-of-type {\n",
       "        vertical-align: middle;\n",
       "    }\n",
       "\n",
       "    .dataframe tbody tr th {\n",
       "        vertical-align: top;\n",
       "    }\n",
       "\n",
       "    .dataframe thead th {\n",
       "        text-align: right;\n",
       "    }\n",
       "</style>\n",
       "<table border=\"1\" class=\"dataframe\">\n",
       "  <thead>\n",
       "    <tr style=\"text-align: right;\">\n",
       "      <th></th>\n",
       "      <th>acc</th>\n",
       "      <th>loss</th>\n",
       "      <th>val_acc</th>\n",
       "      <th>val_loss</th>\n",
       "    </tr>\n",
       "  </thead>\n",
       "  <tbody>\n",
       "    <tr>\n",
       "      <th>0</th>\n",
       "      <td>0.643264</td>\n",
       "      <td>1.347469</td>\n",
       "      <td>0.906780</td>\n",
       "      <td>0.308598</td>\n",
       "    </tr>\n",
       "    <tr>\n",
       "      <th>1</th>\n",
       "      <td>0.927768</td>\n",
       "      <td>0.227972</td>\n",
       "      <td>0.930887</td>\n",
       "      <td>0.209515</td>\n",
       "    </tr>\n",
       "    <tr>\n",
       "      <th>2</th>\n",
       "      <td>0.946123</td>\n",
       "      <td>0.161921</td>\n",
       "      <td>0.939092</td>\n",
       "      <td>0.184027</td>\n",
       "    </tr>\n",
       "  </tbody>\n",
       "</table>\n",
       "</div>"
      ],
      "text/plain": [
       "        acc      loss   val_acc  val_loss\n",
       "0  0.643264  1.347469  0.906780  0.308598\n",
       "1  0.927768  0.227972  0.930887  0.209515\n",
       "2  0.946123  0.161921  0.939092  0.184027"
      ]
     },
     "execution_count": 405,
     "metadata": {
      "tags": []
     },
     "output_type": "execute_result"
    }
   ],
   "source": [
    "history_1K"
   ]
  },
  {
   "cell_type": "code",
   "execution_count": 0,
   "metadata": {
    "colab": {},
    "colab_type": "code",
    "id": "q46Rs-iAd4U6"
   },
   "outputs": [],
   "source": [
    "y_pred_pad = model.predict_classes(x_test,verbose=0)\n",
    "nonpad = np.nonzero(y_test_pad)\n",
    "y_test_nopad = y_test_pad[nonpad]\n",
    "y_pred_nopad = y_pred_pad[nonpad]"
   ]
  },
  {
   "cell_type": "code",
   "execution_count": 0,
   "metadata": {
    "colab": {
     "base_uri": "https://localhost:8080/",
     "height": 109
    },
    "colab_type": "code",
    "id": "oDE_G6wqqWam",
    "outputId": "21be1530-51ce-4964-bf1d-fa86c00937ca"
   },
   "outputs": [
    {
     "name": "stderr",
     "output_type": "stream",
     "text": [
      "/usr/local/lib/python3.6/dist-packages/sklearn/metrics/classification.py:1143: UndefinedMetricWarning: F-score is ill-defined and being set to 0.0 in labels with no predicted samples.\n",
      "  'precision', 'predicted', average, warn_for)\n",
      "/usr/local/lib/python3.6/dist-packages/sklearn/metrics/classification.py:1145: UndefinedMetricWarning: F-score is ill-defined and being set to 0.0 in labels with no true samples.\n",
      "  'recall', 'true', average, warn_for)\n"
     ]
    }
   ],
   "source": [
    "LSTM_scores = pd.DataFrame(np.array([f1_score(y_test_nopad, y_pred_nopad, average = \"micro\"),\n",
    "                       f1_score(y_test_nopad, y_pred_nopad, average = \"macro\"),\n",
    "                       f1_score(y_test_nopad, y_pred_nopad, average = \"weighted\")]).reshape(1, 3), columns = [\"Micro\", \"Macro\", \"Weighted\"], index = [\"F1 Score\"])"
   ]
  },
  {
   "cell_type": "code",
   "execution_count": 0,
   "metadata": {
    "colab": {
     "base_uri": "https://localhost:8080/",
     "height": 80
    },
    "colab_type": "code",
    "id": "qPhIcuysqzcN",
    "outputId": "26a353a9-f46c-404b-aa03-8e307054e99a"
   },
   "outputs": [
    {
     "data": {
      "text/html": [
       "<div>\n",
       "<style scoped>\n",
       "    .dataframe tbody tr th:only-of-type {\n",
       "        vertical-align: middle;\n",
       "    }\n",
       "\n",
       "    .dataframe tbody tr th {\n",
       "        vertical-align: top;\n",
       "    }\n",
       "\n",
       "    .dataframe thead th {\n",
       "        text-align: right;\n",
       "    }\n",
       "</style>\n",
       "<table border=\"1\" class=\"dataframe\">\n",
       "  <thead>\n",
       "    <tr style=\"text-align: right;\">\n",
       "      <th></th>\n",
       "      <th>Micro</th>\n",
       "      <th>Macro</th>\n",
       "      <th>Weighted</th>\n",
       "    </tr>\n",
       "  </thead>\n",
       "  <tbody>\n",
       "    <tr>\n",
       "      <th>F1 Score</th>\n",
       "      <td>0.932388</td>\n",
       "      <td>0.878184</td>\n",
       "      <td>0.932432</td>\n",
       "    </tr>\n",
       "  </tbody>\n",
       "</table>\n",
       "</div>"
      ],
      "text/plain": [
       "             Micro     Macro  Weighted\n",
       "F1 Score  0.932388  0.878184  0.932432"
      ]
     },
     "execution_count": 68,
     "metadata": {
      "tags": []
     },
     "output_type": "execute_result"
    }
   ],
   "source": [
    "LSTM_scores"
   ]
  },
  {
   "cell_type": "markdown",
   "metadata": {
    "colab_type": "text",
    "id": "iw2NBh6Zve2k"
   },
   "source": [
    "### Model with GRU (200 utins), Bidirectional with concatenate and embedding vector 128"
   ]
  },
  {
   "cell_type": "code",
   "execution_count": 0,
   "metadata": {
    "colab": {
     "base_uri": "https://localhost:8080/",
     "height": 377
    },
    "colab_type": "code",
    "id": "DuGXwi_4TGkY",
    "outputId": "1fc7c7d9-ffd1-48d7-9be0-788c38b5ba4f"
   },
   "outputs": [
    {
     "name": "stdout",
     "output_type": "stream",
     "text": [
      "_________________________________________________________________\n",
      "Layer (type)                 Output Shape              Param #   \n",
      "=================================================================\n",
      "embedding_2 (Embedding)      (None, 20, 128)           2591232   \n",
      "_________________________________________________________________\n",
      "bidirectional_2 (Bidirection (None, 20, 400)           394800    \n",
      "_________________________________________________________________\n",
      "dense_2 (Dense)              (None, 20, 42)            16842     \n",
      "=================================================================\n",
      "Total params: 3,002,874\n",
      "Trainable params: 3,002,874\n",
      "Non-trainable params: 0\n",
      "_________________________________________________________________\n",
      "Train on 33656 samples, validate on 14425 samples\n",
      "Epoch 1/3\n",
      "33656/33656 [==============================] - 31s 918us/step - loss: 0.9925 - acc: 0.7478 - val_loss: 0.2508 - val_acc: 0.9199\n",
      "Epoch 2/3\n",
      "33656/33656 [==============================] - 29s 857us/step - loss: 0.1934 - acc: 0.9368 - val_loss: 0.1888 - val_acc: 0.9372\n",
      "Epoch 3/3\n",
      "33656/33656 [==============================] - 29s 855us/step - loss: 0.1450 - acc: 0.9511 - val_loss: 0.1720 - val_acc: 0.9430\n"
     ]
    }
   ],
   "source": [
    "model = Sequential()\n",
    "model.add(Embedding(input_dim = n_lemmas+1, output_dim = 128, input_length = 20))\n",
    "layer_gru = GRU(units=200,return_sequences=True)\n",
    "model.add(Bidirectional(layer_gru, merge_mode = \"concat\"))\n",
    "model.add(Dense(n_labels+1, activation='softmax'))\n",
    "model.summary()\n",
    "model.compile(loss='categorical_crossentropy', optimizer='adam', metrics = [\"acc\"])\n",
    "pd.DataFrame(model.fit(x_train, y_train, validation_data=(x_test, y_test), epochs = 3, batch_size = 128).history).to_csv(\"history_1K_GRU.csv\")\n",
    "model.save(\"model_1K_GRU.h5\")"
   ]
  },
  {
   "cell_type": "code",
   "execution_count": 0,
   "metadata": {
    "colab": {},
    "colab_type": "code",
    "id": "2G6iL_95p3BX"
   },
   "outputs": [],
   "source": [
    "history = pd.read_csv(\"history_1K_GRU.csv\").drop(\"Unnamed: 0\", axis = 1)\n",
    "model = load_model(\"model_1K_GRU.h5\")"
   ]
  },
  {
   "cell_type": "code",
   "execution_count": 0,
   "metadata": {
    "colab": {
     "base_uri": "https://localhost:8080/",
     "height": 142
    },
    "colab_type": "code",
    "id": "cs1aciOFYod3",
    "outputId": "04663ca4-ce39-40f5-972f-aa4a287358a0"
   },
   "outputs": [
    {
     "data": {
      "text/html": [
       "<div>\n",
       "<style scoped>\n",
       "    .dataframe tbody tr th:only-of-type {\n",
       "        vertical-align: middle;\n",
       "    }\n",
       "\n",
       "    .dataframe tbody tr th {\n",
       "        vertical-align: top;\n",
       "    }\n",
       "\n",
       "    .dataframe thead th {\n",
       "        text-align: right;\n",
       "    }\n",
       "</style>\n",
       "<table border=\"1\" class=\"dataframe\">\n",
       "  <thead>\n",
       "    <tr style=\"text-align: right;\">\n",
       "      <th></th>\n",
       "      <th>acc</th>\n",
       "      <th>loss</th>\n",
       "      <th>val_acc</th>\n",
       "      <th>val_loss</th>\n",
       "    </tr>\n",
       "  </thead>\n",
       "  <tbody>\n",
       "    <tr>\n",
       "      <th>0</th>\n",
       "      <td>0.747791</td>\n",
       "      <td>0.992534</td>\n",
       "      <td>0.919920</td>\n",
       "      <td>0.250806</td>\n",
       "    </tr>\n",
       "    <tr>\n",
       "      <th>1</th>\n",
       "      <td>0.936793</td>\n",
       "      <td>0.193403</td>\n",
       "      <td>0.937151</td>\n",
       "      <td>0.188795</td>\n",
       "    </tr>\n",
       "    <tr>\n",
       "      <th>2</th>\n",
       "      <td>0.951104</td>\n",
       "      <td>0.145037</td>\n",
       "      <td>0.942974</td>\n",
       "      <td>0.172038</td>\n",
       "    </tr>\n",
       "  </tbody>\n",
       "</table>\n",
       "</div>"
      ],
      "text/plain": [
       "        acc      loss   val_acc  val_loss\n",
       "0  0.747791  0.992534  0.919920  0.250806\n",
       "1  0.936793  0.193403  0.937151  0.188795\n",
       "2  0.951104  0.145037  0.942974  0.172038"
      ]
     },
     "execution_count": 71,
     "metadata": {
      "tags": []
     },
     "output_type": "execute_result"
    }
   ],
   "source": [
    "history"
   ]
  },
  {
   "cell_type": "code",
   "execution_count": 0,
   "metadata": {
    "colab": {},
    "colab_type": "code",
    "id": "eZfw6gyZYxQE"
   },
   "outputs": [],
   "source": [
    "y_pred_pad = model.predict_classes(x_test,verbose=0)\n",
    "nonpad = np.nonzero(y_test_pad)\n",
    "y_test_nopad = y_test_pad[nonpad]\n",
    "y_pred_nopad = y_pred_pad[nonpad]"
   ]
  },
  {
   "cell_type": "code",
   "execution_count": 0,
   "metadata": {
    "colab": {
     "base_uri": "https://localhost:8080/",
     "height": 109
    },
    "colab_type": "code",
    "id": "cyMEKaWVpV5v",
    "outputId": "227f64cd-05fc-495a-8d85-b8f02a95f8e9"
   },
   "outputs": [
    {
     "name": "stderr",
     "output_type": "stream",
     "text": [
      "/usr/local/lib/python3.6/dist-packages/sklearn/metrics/classification.py:1143: UndefinedMetricWarning: F-score is ill-defined and being set to 0.0 in labels with no predicted samples.\n",
      "  'precision', 'predicted', average, warn_for)\n",
      "/usr/local/lib/python3.6/dist-packages/sklearn/metrics/classification.py:1145: UndefinedMetricWarning: F-score is ill-defined and being set to 0.0 in labels with no true samples.\n",
      "  'recall', 'true', average, warn_for)\n"
     ]
    }
   ],
   "source": [
    "GRU_scores = pd.DataFrame(np.array([f1_score(y_test_nopad, y_pred_nopad, average = \"micro\"),\n",
    "                       f1_score(y_test_nopad, y_pred_nopad, average = \"macro\"),\n",
    "                       f1_score(y_test_nopad, y_pred_nopad, average = \"weighted\")]).reshape(1, 3), columns = [\"Micro\", \"Macro\", \"Weighted\"], index = [\"F1 Score\"])"
   ]
  },
  {
   "cell_type": "code",
   "execution_count": 0,
   "metadata": {
    "colab": {
     "base_uri": "https://localhost:8080/",
     "height": 80
    },
    "colab_type": "code",
    "id": "C2HulmdTrQX1",
    "outputId": "6fbd197b-984f-40c6-9b8e-c5023dfae06b"
   },
   "outputs": [
    {
     "data": {
      "text/html": [
       "<div>\n",
       "<style scoped>\n",
       "    .dataframe tbody tr th:only-of-type {\n",
       "        vertical-align: middle;\n",
       "    }\n",
       "\n",
       "    .dataframe tbody tr th {\n",
       "        vertical-align: top;\n",
       "    }\n",
       "\n",
       "    .dataframe thead th {\n",
       "        text-align: right;\n",
       "    }\n",
       "</style>\n",
       "<table border=\"1\" class=\"dataframe\">\n",
       "  <thead>\n",
       "    <tr style=\"text-align: right;\">\n",
       "      <th></th>\n",
       "      <th>Micro</th>\n",
       "      <th>Macro</th>\n",
       "      <th>Weighted</th>\n",
       "    </tr>\n",
       "  </thead>\n",
       "  <tbody>\n",
       "    <tr>\n",
       "      <th>F1 Score</th>\n",
       "      <td>0.935576</td>\n",
       "      <td>0.883476</td>\n",
       "      <td>0.935508</td>\n",
       "    </tr>\n",
       "  </tbody>\n",
       "</table>\n",
       "</div>"
      ],
      "text/plain": [
       "             Micro     Macro  Weighted\n",
       "F1 Score  0.935576  0.883476  0.935508"
      ]
     },
     "execution_count": 74,
     "metadata": {
      "tags": []
     },
     "output_type": "execute_result"
    }
   ],
   "source": [
    "GRU_scores"
   ]
  },
  {
   "cell_type": "markdown",
   "metadata": {
    "colab_type": "text",
    "id": "p7UptnyJvuV9"
   },
   "source": [
    "### Model with SimpleRNN (200 utins), Bidirectional with concatenate and embedding vector 128"
   ]
  },
  {
   "cell_type": "code",
   "execution_count": 0,
   "metadata": {
    "colab": {
     "base_uri": "https://localhost:8080/",
     "height": 377
    },
    "colab_type": "code",
    "id": "RPuv2e3Tvt3f",
    "outputId": "8a46515b-37b4-4f7c-85d5-4a5bbe082753"
   },
   "outputs": [
    {
     "name": "stdout",
     "output_type": "stream",
     "text": [
      "_________________________________________________________________\n",
      "Layer (type)                 Output Shape              Param #   \n",
      "=================================================================\n",
      "embedding_4 (Embedding)      (None, 20, 128)           2591232   \n",
      "_________________________________________________________________\n",
      "bidirectional_4 (Bidirection (None, 20, 400)           131600    \n",
      "_________________________________________________________________\n",
      "dense_4 (Dense)              (None, 20, 42)            16842     \n",
      "=================================================================\n",
      "Total params: 2,739,674\n",
      "Trainable params: 2,739,674\n",
      "Non-trainable params: 0\n",
      "_________________________________________________________________\n",
      "Train on 33656 samples, validate on 14425 samples\n",
      "Epoch 1/3\n",
      "33656/33656 [==============================] - 17s 492us/step - loss: 0.9707 - acc: 0.7432 - val_loss: 0.2648 - val_acc: 0.9169\n",
      "Epoch 2/3\n",
      "33656/33656 [==============================] - 14s 404us/step - loss: 0.1961 - acc: 0.9371 - val_loss: 0.1929 - val_acc: 0.9362\n",
      "Epoch 3/3\n",
      "33656/33656 [==============================] - 14s 405us/step - loss: 0.1400 - acc: 0.9535 - val_loss: 0.1774 - val_acc: 0.9414\n"
     ]
    }
   ],
   "source": [
    "model = Sequential()\n",
    "model.add(Embedding(input_dim = n_lemmas+1, output_dim = 128, input_length = 20))\n",
    "layer_simple = SimpleRNN(units=200,return_sequences=True)\n",
    "model.add(Bidirectional(layer_simple, merge_mode = \"concat\"))\n",
    "model.add(Dense(n_labels+1, activation='softmax'))\n",
    "model.summary()\n",
    "model.compile(loss='categorical_crossentropy', optimizer='adam', metrics = [\"acc\"])\n",
    "pd.DataFrame(model.fit(x_train, y_train, validation_data=(x_test, y_test), epochs = 3, batch_size = 128).history).to_csv(\"history_1K_vanilla.csv\")\n",
    "model.save(\"model_1K_vanilla.h5\")"
   ]
  },
  {
   "cell_type": "code",
   "execution_count": 0,
   "metadata": {
    "colab": {},
    "colab_type": "code",
    "id": "qK51fOY4wQKL"
   },
   "outputs": [],
   "source": [
    "history = pd.read_csv(\"history_1K_vanilla.csv\").drop(\"Unnamed: 0\", axis = 1)\n",
    "model = load_model(\"model_1K_vanilla.h5\")"
   ]
  },
  {
   "cell_type": "code",
   "execution_count": 0,
   "metadata": {
    "colab": {
     "base_uri": "https://localhost:8080/",
     "height": 142
    },
    "colab_type": "code",
    "id": "FeOrPkdawYlu",
    "outputId": "252017bd-079f-441f-896b-aa0869ecf91f"
   },
   "outputs": [
    {
     "data": {
      "text/html": [
       "<div>\n",
       "<style scoped>\n",
       "    .dataframe tbody tr th:only-of-type {\n",
       "        vertical-align: middle;\n",
       "    }\n",
       "\n",
       "    .dataframe tbody tr th {\n",
       "        vertical-align: top;\n",
       "    }\n",
       "\n",
       "    .dataframe thead th {\n",
       "        text-align: right;\n",
       "    }\n",
       "</style>\n",
       "<table border=\"1\" class=\"dataframe\">\n",
       "  <thead>\n",
       "    <tr style=\"text-align: right;\">\n",
       "      <th></th>\n",
       "      <th>acc</th>\n",
       "      <th>loss</th>\n",
       "      <th>val_acc</th>\n",
       "      <th>val_loss</th>\n",
       "    </tr>\n",
       "  </thead>\n",
       "  <tbody>\n",
       "    <tr>\n",
       "      <th>0</th>\n",
       "      <td>0.740801</td>\n",
       "      <td>0.999695</td>\n",
       "      <td>0.914315</td>\n",
       "      <td>0.281241</td>\n",
       "    </tr>\n",
       "    <tr>\n",
       "      <th>1</th>\n",
       "      <td>0.933431</td>\n",
       "      <td>0.207486</td>\n",
       "      <td>0.934205</td>\n",
       "      <td>0.199211</td>\n",
       "    </tr>\n",
       "    <tr>\n",
       "      <th>2</th>\n",
       "      <td>0.950669</td>\n",
       "      <td>0.148221</td>\n",
       "      <td>0.939629</td>\n",
       "      <td>0.180951</td>\n",
       "    </tr>\n",
       "  </tbody>\n",
       "</table>\n",
       "</div>"
      ],
      "text/plain": [
       "        acc      loss   val_acc  val_loss\n",
       "0  0.740801  0.999695  0.914315  0.281241\n",
       "1  0.933431  0.207486  0.934205  0.199211\n",
       "2  0.950669  0.148221  0.939629  0.180951"
      ]
     },
     "execution_count": 418,
     "metadata": {
      "tags": []
     },
     "output_type": "execute_result"
    }
   ],
   "source": [
    "history"
   ]
  },
  {
   "cell_type": "code",
   "execution_count": 0,
   "metadata": {
    "colab": {},
    "colab_type": "code",
    "id": "OwdmCBQfwaWJ"
   },
   "outputs": [],
   "source": [
    "y_pred_pad = model.predict_classes(x_test,verbose=0)\n",
    "nonpad = np.nonzero(y_test_pad)\n",
    "y_test_nopad = y_test_pad[nonpad]\n",
    "y_pred_nopad = y_pred_pad[nonpad]"
   ]
  },
  {
   "cell_type": "code",
   "execution_count": 0,
   "metadata": {
    "colab": {
     "base_uri": "https://localhost:8080/",
     "height": 109
    },
    "colab_type": "code",
    "id": "9R3JpjuJwdFf",
    "outputId": "7d2313c4-42d4-476b-e58e-2d397fedaf3f"
   },
   "outputs": [
    {
     "name": "stderr",
     "output_type": "stream",
     "text": [
      "/usr/local/lib/python3.6/dist-packages/sklearn/metrics/classification.py:1143: UndefinedMetricWarning: F-score is ill-defined and being set to 0.0 in labels with no predicted samples.\n",
      "  'precision', 'predicted', average, warn_for)\n",
      "/usr/local/lib/python3.6/dist-packages/sklearn/metrics/classification.py:1145: UndefinedMetricWarning: F-score is ill-defined and being set to 0.0 in labels with no true samples.\n",
      "  'recall', 'true', average, warn_for)\n"
     ]
    }
   ],
   "source": [
    "vanilla_scores = pd.DataFrame(np.array([f1_score(y_test_nopad, y_pred_nopad, average = \"micro\"),\n",
    "                       f1_score(y_test_nopad, y_pred_nopad, average = \"macro\"),\n",
    "                       f1_score(y_test_nopad, y_pred_nopad, average = \"weighted\")]).reshape(1, 3), columns = [\"Micro\", \"Macro\", \"Weighted\"], index = [\"F1 Score\"])"
   ]
  },
  {
   "cell_type": "code",
   "execution_count": 0,
   "metadata": {
    "colab": {
     "base_uri": "https://localhost:8080/",
     "height": 80
    },
    "colab_type": "code",
    "id": "uoaaNONkrfzN",
    "outputId": "d2a8a19c-9ed5-4743-c47b-b7f5afade67d"
   },
   "outputs": [
    {
     "data": {
      "text/html": [
       "<div>\n",
       "<style scoped>\n",
       "    .dataframe tbody tr th:only-of-type {\n",
       "        vertical-align: middle;\n",
       "    }\n",
       "\n",
       "    .dataframe tbody tr th {\n",
       "        vertical-align: top;\n",
       "    }\n",
       "\n",
       "    .dataframe thead th {\n",
       "        text-align: right;\n",
       "    }\n",
       "</style>\n",
       "<table border=\"1\" class=\"dataframe\">\n",
       "  <thead>\n",
       "    <tr style=\"text-align: right;\">\n",
       "      <th></th>\n",
       "      <th>Micro</th>\n",
       "      <th>Macro</th>\n",
       "      <th>Weighted</th>\n",
       "    </tr>\n",
       "  </thead>\n",
       "  <tbody>\n",
       "    <tr>\n",
       "      <th>F1 Score</th>\n",
       "      <td>0.933735</td>\n",
       "      <td>0.880853</td>\n",
       "      <td>0.933713</td>\n",
       "    </tr>\n",
       "  </tbody>\n",
       "</table>\n",
       "</div>"
      ],
      "text/plain": [
       "             Micro     Macro  Weighted\n",
       "F1 Score  0.933735  0.880853  0.933713"
      ]
     },
     "execution_count": 78,
     "metadata": {
      "tags": []
     },
     "output_type": "execute_result"
    }
   ],
   "source": [
    "vanilla_scores"
   ]
  },
  {
   "cell_type": "markdown",
   "metadata": {
    "colab_type": "text",
    "id": "ilTms46nysnL"
   },
   "source": [
    "### Comparación"
   ]
  },
  {
   "cell_type": "code",
   "execution_count": 0,
   "metadata": {
    "colab": {},
    "colab_type": "code",
    "id": "XeyX_6aPyzE8"
   },
   "outputs": [],
   "source": [
    "lstm = pd.read_csv(\"history_1K_LSTM.csv\").drop(\"Unnamed: 0\", axis = 1)\n",
    "gru = pd.read_csv(\"history_1K_GRU.csv\").drop(\"Unnamed: 0\", axis = 1)\n",
    "simple = pd.read_csv(\"history_1K_vanilla.csv\").drop(\"Unnamed: 0\", axis = 1)"
   ]
  },
  {
   "cell_type": "code",
   "execution_count": 0,
   "metadata": {
    "colab": {
     "base_uri": "https://localhost:8080/",
     "height": 620
    },
    "colab_type": "code",
    "id": "05Q15HtpyOIJ",
    "outputId": "44a5120d-daa5-4f43-c1ff-e327a8b3f686"
   },
   "outputs": [
    {
     "data": {
      "image/png": "[encoded data removed]",
      "text/plain": [
       "<matplotlib.figure.Figure at 0x7f99a3d85940>"
      ]
     },
     "metadata": {
      "tags": []
     },
     "output_type": "display_data"
    }
   ],
   "source": [
    "fig, ax = plt.subplots(1, 2, sharey=True, figsize=(16, 10))\n",
    "\n",
    "ax[0].plot([1, 2, 3], lstm[\"loss\"], color = pink, label = \"LSTM\")\n",
    "ax[0].plot([1, 2, 3], gru[\"loss\"], color = green, label = \"GRU\")\n",
    "ax[0].plot([1, 2, 3], simple[\"loss\"], color =  blue, label = \"SIMPLE\")\n",
    "ax[0].set_xlabel(\"Epochs\")\n",
    "ax[0].set_ylabel(\"Loss\")\n",
    "ax[0].set_title(\"Training Loss\")\n",
    "\n",
    "ax[1].plot([1, 2, 3], lstm[\"val_loss\"], color = pink, label = \"LSTM\")\n",
    "ax[1].plot([1, 2, 3], gru[\"val_loss\"], color = green, label = \"GRU\")\n",
    "ax[1].plot([1, 2, 3], simple[\"val_loss\"], color =  blue, label = \"SIMPLE\")\n",
    "ax[1].set_xlabel(\"Epochs\")\n",
    "ax[1].set_title(\"Validation Loss\")\n",
    "ax[1].legend()\n",
    "\n",
    "plt.show()"
   ]
  },
  {
   "cell_type": "code",
   "execution_count": 0,
   "metadata": {
    "colab": {
     "base_uri": "https://localhost:8080/",
     "height": 620
    },
    "colab_type": "code",
    "id": "oAisAZJ9zbGV",
    "outputId": "af450955-e7b0-4a82-a9fb-d955a4f3a9a3"
   },
   "outputs": [
    {
     "data": {
      "image/png": "[encoded data removed]",
      "text/plain": [
       "<matplotlib.figure.Figure at 0x7f99a30aae10>"
      ]
     },
     "metadata": {
      "tags": []
     },
     "output_type": "display_data"
    }
   ],
   "source": [
    "fig, ax = plt.subplots(1, 2, sharey=True, figsize=(16, 10))\n",
    "\n",
    "ax[0].plot([1, 2, 3], lstm[\"acc\"], color = pink, label = \"LSTM\")\n",
    "ax[0].plot([1, 2, 3], gru[\"acc\"], color = green, label = \"GRU\")\n",
    "ax[0].plot([1, 2, 3], simple[\"acc\"], color =  blue, label = \"SIMPLE\")\n",
    "ax[0].set_xlabel(\"Epochs\")\n",
    "ax[0].set_ylabel(\"Accuracy\")\n",
    "ax[0].set_title(\"Training accuracy\")\n",
    "\n",
    "ax[1].plot([1, 2, 3], lstm[\"val_acc\"], color = pink, label = \"LSTM\")\n",
    "ax[1].plot([1, 2, 3], gru[\"val_acc\"], color = green, label = \"GRU\")\n",
    "ax[1].plot([1, 2, 3], simple[\"val_acc\"], color =  blue, label = \"SIMPLE\")\n",
    "ax[1].set_xlabel(\"Epochs\")\n",
    "ax[1].set_title(\"Validation accuracy\")\n",
    "ax[1].legend()\n",
    "\n",
    "plt.show()"
   ]
  },
  {
   "cell_type": "code",
   "execution_count": 0,
   "metadata": {
    "colab": {
     "base_uri": "https://localhost:8080/",
     "height": 498
    },
    "colab_type": "code",
    "id": "eMsXJP0XdUcS",
    "outputId": "c13019c1-ed8f-4f61-db02-f3222790cde0"
   },
   "outputs": [
    {
     "data": {
      "image/png": "[encoded data removed]",
      "text/plain": [
       "<matplotlib.figure.Figure at 0x7f99a312df60>"
      ]
     },
     "metadata": {
      "tags": []
     },
     "output_type": "display_data"
    }
   ],
   "source": [
    "f1_scores = [LSTM_scores[\"Micro\"][0], GRU_scores[\"Micro\"][0], vanilla_scores[\"Micro\"][0]]\n",
    "plt.figure(figsize=(14, 8))\n",
    "plt.bar(['LSTM','GRU', 'Vanilla'], f1_scores, color = pink)\n",
    "plt.ylabel(\"F1 score\")\n",
    "plt.title(\"F1 score per type of layers\")\n",
    "plt.ylim([0.93, 0.936])\n",
    "plt.show()"
   ]
  },
  {
   "cell_type": "markdown",
   "metadata": {
    "colab_type": "text",
    "id": "K6Y8ysQ-oz0K"
   },
   "source": [
    "Podemos destacar que todos los modelos han obtenido un F1 score mayor a 0.9, por lo que todos son buenos modelos. Aquel que presentó el mejor performance fue el modelo con capas GRU, seguido por el modelo con capas SimpleRNN, y al final el modelo con capas LSTM."
   ]
  },
  {
   "cell_type": "markdown",
   "metadata": {
    "colab_type": "text",
    "id": "vmq845nCmRNG"
   },
   "source": [
    "## Pregunta L\n",
    "Utilice la red entranda anteriormente, **se espera que sea la mejor de esta sección**, y **muestre las predicciones**, el *NER tager*, sobre algún ejemplo de pruebas, comente. "
   ]
  },
  {
   "cell_type": "code",
   "execution_count": 0,
   "metadata": {
    "colab": {},
    "colab_type": "code",
    "id": "LzomkAMdNWsM"
   },
   "outputs": [],
   "source": [
    "history_1K_s = pd.read_csv(\"history_1K_simple.csv\").drop(\"Unnamed: 0\", axis = 1)\n",
    "model = load_model(\"model_1K_simple.h5\")"
   ]
  },
  {
   "cell_type": "code",
   "execution_count": 0,
   "metadata": {
    "colab": {
     "base_uri": "https://localhost:8080/",
     "height": 395
    },
    "colab_type": "code",
    "id": "vqsmKUBCmU9e",
    "outputId": "b37825ed-f7f2-4338-b0e4-72a31fd60f27"
   },
   "outputs": [
    {
     "name": "stdout",
     "output_type": "stream",
     "text": [
      "Lemma          : Pred\n",
      "mogadishu      : NNPS\n",
      "number-on      : NNPS\n",
      "monetari       : NNPS\n",
      "ecweru         : NNPS\n",
      "almazbek       : NNPS\n",
      "clemenc        : NNPS\n",
      "kite           : NNPS\n",
      "550            : IN\n",
      "vehicl         : .\n",
      "finn           : RBS\n",
      "finn           : RBS\n",
      "finn           : RBS\n",
      "finn           : RBS\n",
      "finn           : RBS\n",
      "finn           : RBS\n",
      "finn           : RBS\n",
      "finn           : RBS\n",
      "finn           : RBS\n",
      "finn           : RBS\n",
      "finn           : RBS\n"
     ]
    }
   ],
   "source": [
    "i=5 #Random\n",
    "p = model.predict(np.array([x_test[i]]))\n",
    "p = np.argmax(p, axis=-1)\n",
    "print(\"{:15}: {}\".format(\"Lemma\", \"Pred\"))\n",
    "lemmas=list(lemmas)\n",
    "labels=list(labels)\n",
    "for w,pred in zip(x_test[i],p[0]):\n",
    "    print(\"{:15}: {}\".format(lemmas[w],labels[pred]))"
   ]
  },
  {
   "cell_type": "markdown",
   "metadata": {
    "colab_type": "text",
    "id": "EG8cDOURvr1C"
   },
   "source": [
    "\n",
    "\n",
    "*   Eligiendo uno de nuestros modelos, en este caso un autoenconder simple procedemos a obsrevar algunas de las predicciones. Lo observado es que no son tag asociado a iniciales de letras o con algun tipo de relación directa. SI no que la red aprende para cada lemma una label. \n",
    "\n"
   ]
  },
  {
   "cell_type": "markdown",
   "metadata": {
    "colab_type": "text",
    "id": "Q7crb0wWzNmU"
   },
   "source": [
    "> Ahora utilizaremos el mismo dataset para realizar una aplicación más conocida hoy en día que es el autocompletar texto, esto es, predecir la siguiente palabra de una sentencia basada en las palabras anteriores de la misma, por lo que la red que utilizaremos es del tipo *many to one*.  \n",
    "Debido a lo extenso del vocabulario es bastante complejo hacer un modelo que prediga una palabra dentro de las millones que pueden haber, por lo que, **trabajaremos a nivel de carácter, en donde las posibilidades (posibles clases) son mucho menores**.\n",
    "\n",
    "## Pregunta M\n",
    " **Carge las palabras del dataset** ¿Por qué no los *lemmas*? y cree el corpus con el cual se trabajará, además de crear la codificación de caracteres a números. Esto se presenta en el código a continuación además de crear la estrucutura de los datos con los que se va a trabajar (sub sentencias del corpus original). **Utilice el tamaño del *corpus* que le acomode a la memoria de su computador**.\n"
   ]
  },
  {
   "cell_type": "code",
   "execution_count": 0,
   "metadata": {
    "colab": {
     "base_uri": "https://localhost:8080/",
     "height": 52
    },
    "colab_type": "code",
    "id": "cuyRxTVkzYt4",
    "outputId": "2c4e4e5e-506c-4f88-a7ea-a7b994cef743"
   },
   "outputs": [
    {
     "name": "stdout",
     "output_type": "stream",
     "text": [
      "total chars: 72\n",
      "nb sequences: 242693\n"
     ]
    }
   ],
   "source": [
    "dataset = df_ner.loc[:,[\"word\",\"lemma\"]]\n",
    "text = ' '.join(dataset[\"word\"]).lower() #corpus\n",
    "null_character = \"*\"\n",
    "chars = [null_character]+sorted(list(set(text)))\n",
    "print('total chars:', len(chars))\n",
    "char_indices = {c: i for i, c in enumerate(chars)}\n",
    "indices_char = {i: c for i, c in enumerate(chars)}\n",
    "maxlen = 40 # cut the text in semi-redundant sequences of maxlen characters\n",
    "step = 5 \n",
    "sentences = []\n",
    "next_chars = []\n",
    "size = int(len(text)*0.2) #solo un 20% del corpus\n",
    "for i in range(0, size - maxlen, step):\n",
    "    sentences.append(null_character+text[i: i + maxlen])\n",
    "    next_chars.append(text[i + maxlen])\n",
    "print('nb sequences:', len(sentences))"
   ]
  },
  {
   "cell_type": "markdown",
   "metadata": {
    "colab_type": "text",
    "id": "drIU5OFqLg0I"
   },
   "source": [
    "En esta sección se trabaja con $word$ y no con $lemmas$, debido a que la red puede tener mayor representaciones y mayor capacidad para generar las siguientes palabras. Ya que lemmas es la versión de words en minuscula. Tambien permite trabajar con más expresiones  que con la forma de escritura. Es decir,  en mi punto de vista, estos pequeños cambios pueden influir en como se genera la sentencia, teniendo diferentes representaciones para una misma palabra.\n"
   ]
  },
  {
   "cell_type": "markdown",
   "metadata": {
    "colab_type": "text",
    "id": "6Bw8ew_69deH"
   },
   "source": [
    "## Pregunta N\n",
    "**Procese las sentencias para así tenerlas codificadas en números que van a representar los carácteres**, tal cual se realizó en c) con los *lemmas*, **lo mismo para las etiquetas**. Además de esto deberá realizar el *padding* correspondiente al comienzo de la sentencia, esto es para que la red aprenda cuando venga una frase mas corta de lo entrenado, este símbolo siignificará que no hay información. **Transforme las etiquetas a *one hot vector*** como se realizó en c) y **defina la red** similar a la presentada en f), con un *embedding* seguido de una capa recurrente GRU y la capa de clasificación. Aprovechese de la implementación más rápida de GRU respaldada por __[CuDNN](https://developer.nvidia.com/cudnn)__, una librería de CUDA (NVIDIA)[[2]](#refs) para *Deep Neural Network*. "
   ]
  },
  {
   "cell_type": "code",
   "execution_count": 0,
   "metadata": {
    "colab": {
     "base_uri": "https://localhost:8080/",
     "height": 88
    },
    "colab_type": "code",
    "id": "-rA9pxB5GD_5",
    "outputId": "c6cbd009-ee6c-42bd-e916-779a3868ea21"
   },
   "outputs": [
    {
     "name": "stdout",
     "output_type": "stream",
     "text": [
      "Cantidad char:  73\n",
      "Cantidad de indices:  73\n",
      "Tamaño matriz de X:  242693\n",
      "Tamaño matriz de Y:  242693\n"
     ]
    }
   ],
   "source": [
    "dataX = [[char_indices[char] for char in sentence ] for sentence in sentences]\n",
    "dataY = [char_indices[char] for char in next_chars] \n",
    "\n",
    "\n",
    "char_indices[\"LEMMAFILLER\"] = 0\n",
    "indices_char[\"LEMMAFILLER\"] = 0\n",
    "\n",
    "print(\"Cantidad char: \", len(char_indices))\n",
    "print(\"Cantidad de indices: \", len(indices_char))\n",
    "print(\"Tamaño matriz de X: \", len(dataX))\n",
    "print(\"Tamaño matriz de Y: \", len(dataY))"
   ]
  },
  {
   "cell_type": "markdown",
   "metadata": {
    "colab_type": "text",
    "id": "js37j0vKs_yB"
   },
   "source": [
    "Con esto obtenemos una representacion numerica de los vectores, aunque no era necesario hacer padding por que todos tenian el mismo largo.  \n"
   ]
  },
  {
   "cell_type": "code",
   "execution_count": 0,
   "metadata": {
    "colab": {},
    "colab_type": "code",
    "id": "AziuBReK6D4w"
   },
   "outputs": [],
   "source": [
    "x = sequence.pad_sequences(dataX, maxlen+1, padding='post',value = char_indices[\"LEMMAFILLER\"])"
   ]
  },
  {
   "cell_type": "code",
   "execution_count": 0,
   "metadata": {
    "colab": {
     "base_uri": "https://localhost:8080/",
     "height": 34
    },
    "colab_type": "code",
    "id": "rfhtkoMS8SXJ",
    "outputId": "a1c8e563-7700-460e-b3b3-e65956f0ab24"
   },
   "outputs": [
    {
     "data": {
      "text/plain": [
       "(242686, 73)"
      ]
     },
     "execution_count": 39,
     "metadata": {
      "tags": []
     },
     "output_type": "execute_result"
    }
   ],
   "source": [
    "x.shape"
   ]
  },
  {
   "cell_type": "code",
   "execution_count": 0,
   "metadata": {
    "colab": {},
    "colab_type": "code",
    "id": "n9JpUR5y6asN"
   },
   "outputs": [],
   "source": [
    "y = np.asarray([to_categorical(i, num_classes = len(chars)+1) for i in dataY])"
   ]
  },
  {
   "cell_type": "code",
   "execution_count": 0,
   "metadata": {
    "colab": {
     "base_uri": "https://localhost:8080/",
     "height": 34
    },
    "colab_type": "code",
    "id": "Mf7wyn4B8U-D",
    "outputId": "a2f8cbc1-3512-4c60-8745-f8e89b93393e"
   },
   "outputs": [
    {
     "data": {
      "text/plain": [
       "(242686, 73)"
      ]
     },
     "execution_count": 41,
     "metadata": {
      "tags": []
     },
     "output_type": "execute_result"
    }
   ],
   "source": [
    "y.shape"
   ]
  },
  {
   "cell_type": "markdown",
   "metadata": {
    "colab_type": "text",
    "id": "ZPvdyqD_vLBk"
   },
   "source": [
    "Ahora, definimos una red similar a la presentada en f), con un embedding seguido de una capa recurrente GRU y la capa de clasificación. A continuación se muestra una relación de los parametros de las capas y sus caracteristicas."
   ]
  },
  {
   "cell_type": "code",
   "execution_count": 0,
   "metadata": {
    "colab": {
     "base_uri": "https://localhost:8080/",
     "height": 286
    },
    "colab_type": "code",
    "id": "O1L3SdQC43SU",
    "outputId": "68c9addc-6e62-4d53-d5f8-6ebbc2b1f983"
   },
   "outputs": [
    {
     "name": "stdout",
     "output_type": "stream",
     "text": [
      "_________________________________________________________________\n",
      "Layer (type)                 Output Shape              Param #   \n",
      "=================================================================\n",
      "embedding_3 (Embedding)      (None, 41, 16)            1152      \n",
      "_________________________________________________________________\n",
      "cu_dnngru_3 (CuDNNGRU)       (None, 512)               814080    \n",
      "_________________________________________________________________\n",
      "dropout_3 (Dropout)          (None, 512)               0         \n",
      "_________________________________________________________________\n",
      "dense_3 (Dense)              (None, 73)                37449     \n",
      "=================================================================\n",
      "Total params: 852,681\n",
      "Trainable params: 852,681\n",
      "Non-trainable params: 0\n",
      "_________________________________________________________________\n"
     ]
    }
   ],
   "source": [
    "from keras.layers import CuDNNGRU, GRU\n",
    "embedding_vector = 16\n",
    "model = Sequential()\n",
    "model.add(Embedding(input_dim=len(chars), output_dim=embedding_vector, input_length=maxlen+1))#\n",
    "model.add(CuDNNGRU(units=512,return_sequences=False))\n",
    "model.add(Dropout(0.2))\n",
    "model.add(Dense(len(chars)+1, activation='softmax'))\n",
    "model.compile(loss='categorical_crossentropy', optimizer='adam', metrics=['accuracy'])\n",
    "model.summary()"
   ]
  },
  {
   "cell_type": "markdown",
   "metadata": {
    "colab_type": "text",
    "id": "UjU98Cdf-Fzl"
   },
   "source": [
    "## Pregunta O\n",
    "Entrene la red con las funciones que se presentan a continuación que mostrarán el cómo va la tarea de autocompletar texto en cada *epoch*, generando una sentencia completa de 400 carácteres *aleatoriamente* a partir de una semilla *random*. Entrene solo durante 25 *epochs*, a los 15 ya debería comenzar a generar palabras y sonar mas coherente **¿Cuál es la técnica para predecir el siguiente carácter?**"
   ]
  },
  {
   "cell_type": "code",
   "execution_count": 0,
   "metadata": {
    "colab": {},
    "colab_type": "code",
    "id": "deiI8qUXFxYg"
   },
   "outputs": [],
   "source": [
    "def predict_next_char(model, sentence):\n",
    "    \"\"\"Predict the next character from the current one\"\"\"    \n",
    "    x_pred = [char_indices[null_character]]+[char_indices[char] for char in sentence]\n",
    "    x_pred = sequence.pad_sequences([x_pred], maxlen=maxlen+1,padding='pre',value=char_indices[null_character])\n",
    "    preds = model.predict(x_pred, verbose=0)[0]\n",
    "    next_index = np.random.choice(len(chars)+1, p=preds) #take a sample\n",
    "    return indices_char[next_index]"
   ]
  },
  {
   "cell_type": "markdown",
   "metadata": {
    "colab_type": "text",
    "id": "sw8Dp01Ns2YW"
   },
   "source": [
    "La técnica para predecir el siguiente caracter se basa en una función para definir el carácter que sigue, se toma la actual sentencia, la red realiza probabilidades y genera un random para generar la siguiente, esto hace que la  función no sea determinista, sino por el contrario sea estocástico. \n"
   ]
  },
  {
   "cell_type": "code",
   "execution_count": 0,
   "metadata": {
    "colab": {},
    "colab_type": "code",
    "id": "gmW3fyIsF11l"
   },
   "outputs": [],
   "source": [
    "import random,sys\n",
    "def on_epoch_end(epoch, logs):\n",
    "    \"\"\"Function invoked at end of each epoch. Prints generated text.\"\"\"\n",
    "    print('\\n----- Generating text after Epoch: %d' % epoch)\n",
    "    start_index = random.randint(0, size - maxlen - 1)\n",
    "    sentence = text[start_index: start_index + maxlen]\n",
    "    print('----- Generating with seed: \"' + sentence + '\"')\n",
    "    sys.stdout.write(sentence)\n",
    "    for i in range(400):\n",
    "        next_char = predict_next_char(model, sentence)\n",
    "        sentence = sentence[1:] + next_char #for next character\n",
    "        sys.stdout.write(next_char)\n",
    "        sys.stdout.flush()\n",
    "    return"
   ]
  },
  {
   "cell_type": "code",
   "execution_count": 0,
   "metadata": {
    "colab": {
     "base_uri": "https://localhost:8080/",
     "height": 2304
    },
    "colab_type": "code",
    "id": "jwL3A-lv-MqC",
    "outputId": "75685f7a-ede9-45aa-f240-1263091e57f1"
   },
   "outputs": [
    {
     "name": "stdout",
     "output_type": "stream",
     "text": [
      "Epoch 1/25\n",
      "242693/242693 [==============================] - 44s 182us/step - loss: 0.8463 - acc: 0.7333\n",
      "\n",
      "----- Generating text after Epoch: 0\n",
      "----- Generating with seed: \"erman chancellor gerhard schroeder monda\"\n",
      "erman chancellor gerhard schroeder monday , who has blen accused demonstrators spyatgling to acclume the men a venezuelan 's dief held telr of his country , not abe they will his senicul obase deal . in the issue when he was ind terron governments co terroration to trud to the death aited by remainst in some critics were delelen edurtion to the caused . the priving has been residning for his boald blosed him in 1996 , the u.s. commits wEpoch 2/25\n",
      "242693/242693 [==============================] - 44s 182us/step - loss: 0.8393 - acc: 0.7348\n",
      "\n",
      "----- Generating text after Epoch: 1\n",
      "----- Generating with seed: \"article was the third in granma attribut\"\n",
      "article was the third in granma attributed a great was disarmined a head of wedperngens to protest a repolted with said tuesday , after nearly 1,000 has been suspected sendat poce combenth people unnied terest on the city of mashy from bringing on the salition region 's loansi per poorem of 3000 offs , after official became sunday . officials reported erection and lainth as its went of bording . a sphender dovement . it has diservisiongEpoch 3/25\n",
      "242693/242693 [==============================] - 45s 184us/step - loss: 0.8596 - acc: 0.7274\n",
      "\n",
      "----- Generating text after Epoch: 2\n",
      "----- Generating with seed: \"ached consensus to cut back crude oil pr\"\n",
      "ached consensus to cut back crude oil president 's gurrenes a dispetes a bugh about $ 4 rila , which has tricable , u.s. says financial sassania said the two sest-men there has one of the extended force . salsi rabed engress of of sudpout to work in venezuela 's purnopmin continue to lift hive . authorities in rackem later . the defting world countries wounding the air strakes for death , the early 2000 to dedpers his within tests in nuEpoch 4/25\n",
      "242693/242693 [==============================] - 45s 184us/step - loss: 0.8397 - acc: 0.7340\n",
      "\n",
      "----- Generating text after Epoch: 3\n",
      "----- Generating with seed: \"nce source as saying the call to the emb\"\n",
      "nce source as saying the call to the embryssas in somalia a dell pebinical first price of horits of the iraq after a onfineing medical islands . at least two peacekeepers eleding the man of several interclen te reconstractors boust a ple tork allowing the world economic grown parliamentary elections . four alemed investigation into reports that violetce . keepants said it will sounce of other atangs and the summit on money combut in iraEpoch 5/25\n",
      "242693/242693 [==============================] - 45s 184us/step - loss: 0.8396 - acc: 0.7339\n",
      "\n",
      "----- Generating text after Epoch: 4\n",
      "----- Generating with seed: \"ted a man believed to have played a key \"\n",
      "ted a man believed to have played a key them . which brikgis in canced by president husland killed a police can were lifted . offices of miscuse of pet nuws after their demonds to criticized the stroin trade migreating president brokes has macedorian government has called no otten vease for a definded of a varked in the u.n. move count one hants regional has confirmed that he collibs set can threates to boid- and release . an assusting Epoch 6/25\n",
      "242693/242693 [==============================] - 45s 184us/step - loss: 0.8518 - acc: 0.7304\n",
      "\n",
      "----- Generating text after Epoch: 5\n",
      "----- Generating with seed: \"d later told the crowd he was suffering \"\n",
      "d later told the crowd he was suffering the country said the juage amarikatah and ha presidential elections . in soleire noathari barrences and afghanistan . she say as a police as a venezuela 's political troops killed five season mrovinc was mered is at would be are of defended show after talks north korea cover says narab islaading down are previnu. and four of crial for marring authorities consunting the nime years and the koing . tEpoch 7/25\n",
      "242693/242693 [==============================] - 45s 184us/step - loss: 0.8618 - acc: 0.7274\n",
      "\n",
      "----- Generating text after Epoch: 6\n",
      "----- Generating with seed: \"missile strike . president bush is in ru\"\n",
      "missile strike . president bush is in russia has been voted to suparty to spokesman to iraq meet induction . the two attacked the state of huran priving the about this week to omer unif over 22 main police from the 1388 seats that because workers ereption . mrasusion boncent rate his cirisu. is lock that the military say officials shot the monnas , and tour the four said for killing stopes to country to weapons a full jeurbe , also wereEpoch 8/25\n",
      "242693/242693 [==============================] - 44s 183us/step - loss: 0.8557 - acc: 0.7282\n",
      "\n",
      "----- Generating text after Epoch: 7\n",
      "----- Generating with seed: \"april 2007 marked the first civilian-to-\"\n",
      "april 2007 marked the first civilian-to- secerity contricuted the china 's hervilow results and carlis for serve a two-tour sensted by relinions of fines turkich \" billing with bird flu barring convicted more than an american gelending missile with beric more than 100 melcere of aptifities . police say the discussions with u.s. security to abmst loritg of made the creat morder body . met with an infectious and afghan trespite transfer wEpoch 9/25\n",
      "242693/242693 [==============================] - 45s 184us/step - loss: 0.8586 - acc: 0.7290\n",
      "\n",
      "----- Generating text after Epoch: 8\n",
      "----- Generating with seed: \", in exchange for his quitting , the age\"\n",
      ", in exchange for his quitting , the agendince with all tith state of and , official , menting has disms.-has helf leader jail in venezuela 's foreign minister , and ngaged more than 2,500 people weden approve commoned was killed , paki tasion gonelal of its erected party of italy of the sunna prisoners and hwh , which is sid .-detrips in areas with fundsi geners of 28 people were killed . nato security forces , mask government came of Epoch 10/25\n",
      "242693/242693 [==============================] - 45s 184us/step - loss: 0.8584 - acc: 0.7279\n",
      "\n",
      "----- Generating text after Epoch: 9\n",
      "----- Generating with seed: \"er 1 after his magazine , haqooq-i-zan ,\"\n",
      "er 1 after his magazine , haqooq-i-zan , who curandly contractor war arab district of pakesting in the remote market winning the gaza strip . hurarsery of israeli prise police say authorities say based in recent stateered are the gearman help . ochab elections of leading at a nearly pho-promection council bose the north wore abrose to revaide the first major security conments promisman says the sulasi democratic saneticip , somilia and Epoch 11/25\n",
      "242693/242693 [==============================] - 45s 183us/step - loss: 0.8694 - acc: 0.7245\n",
      "\n",
      "----- Generating text after Epoch: 10\n",
      "----- Generating with seed: \"atehood . \" zambia 's deputy leader says\"\n",
      "atehood . \" zambia 's deputy leader says laman network elcestive and travel to iran that killed strike on the south kiloma a hime northern mas kount wednesday when he vehel disputted in 1995 . diving chincout launkang was wednesday but chinese held a consider the contract the united states was scheduled to judes a tridering to jail for a second ratic was i skill , indian man saud whill was i buits and afghan probualt out of the alcowon Epoch 12/25\n",
      "242693/242693 [==============================] - 45s 184us/step - loss: 0.8822 - acc: 0.7210\n",
      "\n",
      "----- Generating text after Epoch: 11\n",
      "----- Generating with seed: \" afghanistan were enthusiastic about the\"\n",
      " afghanistan were enthusiastic about the anumant attrcation of large-can juit with job appetent killed by authorities the opposition . the said he cauntery of buggding 's six president him a privances , and suspected teesion thoous are abistiss , including rosnu has exproded a suspects to a plont , stare and afghanistan and using curmen are missing jistrict to report at least venezuela 's energy governments in o hathout that kel sithed Epoch 13/25\n",
      "242693/242693 [==============================] - 45s 184us/step - loss: 0.8744 - acc: 0.7238\n",
      "\n",
      "----- Generating text after Epoch: 12\n",
      "----- Generating with seed: \"he united states , after finding materia\"\n",
      "he united states , after finding material in the northern unies of bascos bodbers and drivor assum by azies are protesters of its lucasters awtrocked earlier this week , u.s. and ifrineny said the state of easila interragingly dusconstruction . a past was not some undergraing ghn38ws and arieghol , chlash such celt base by musives , and the international community . defendoving its car court . newspaper th the screese bombing in the worEpoch 14/25\n",
      "242693/242693 [==============================] - 45s 184us/step - loss: 0.8776 - acc: 0.7221\n",
      "\n",
      "----- Generating text after Epoch: 13\n",
      "----- Generating with seed: \"labor party awarded seats in the upper h\"\n",
      "labor party awarded seats in the upper head to reaming louses a paris the straigst sugpering of the 61-yas 's capital of dustaba . the oumbrits in the group an the year 's  united in said his signial in an extening . cracholiped from document on the nuclear-fewer-on iraq 's said the vical war addre of a monghing to hava adericans , and investigations . than foreign dinopes , wednesday . tring into the slowds . the 2212 possessing the woEpoch 15/25\n",
      "242693/242693 [==============================] - 45s 184us/step - loss: 0.8909 - acc: 0.7184\n",
      "\n",
      "----- Generating text after Epoch: 14\n",
      "----- Generating with seed: \"s resistance army , if the rebel chief a\"\n",
      "s resistance army , if the rebel chief and his gfor announced in afgian members . the two sides have failed to lead to allie jissing , uspaceton drounnaus , will toke , t o based himen president has said tuesday that it is withden afghan subst city and the undarl thre contituent and presidential resultionian confidence on the econdin . the el-crassing the destroy to the capital , zoh mant other forces , will be ressittent agency deproyeEpoch 16/25\n",
      "242693/242693 [==============================] - 45s 184us/step - loss: 0.8799 - acc: 0.7213\n",
      "\n",
      "----- Generating text after Epoch: 15\n",
      "----- Generating with seed: \"ssion is expected to issue final poll re\"\n",
      "ssion is expected to issue final poll reported andinging al-qaida lest mants in 2008 at and lifticians with pakistani officials say a particiand mosto says iraqi officials say wett the accieqe involvemanizunia missing china has three a new government-saturday earchers from allies and some resconseroovie was teers and omer employed . about 8000 intorear news agency says syrian powity to inice the eastern mannath travel , an auto receavilEpoch 17/25\n",
      "242693/242693 [==============================] - 45s 183us/step - loss: 0.8817 - acc: 0.7209\n",
      "\n",
      "----- Generating text after Epoch: 16\n",
      "----- Generating with seed: \"against humanity still under investigati\"\n",
      "against humanity still under investigations and the copun about a pistee targe , boliation forces in ballaged $ lolian teens hurried to ensuran thoous gasse by the refugees , including a countries and hugab have genered discussing problems for its notes anekyasged to bodi . noure he wednesday that he was post . police say at least 32 people were \" parkies in the sive to subread truin weasees sunday rezulted president humonstrafor ruber Epoch 18/25\n",
      "242693/242693 [==============================] - 45s 184us/step - loss: 0.8951 - acc: 0.7170\n",
      "\n",
      "----- Generating text after Epoch: 17\n",
      "----- Generating with seed: \"rs to the list of threatened animals und\"\n",
      "rs to the list of threatened animals under . egyptian officials say several ungurmer is soid and a british ( grang in january a he week with explosion , canall betined new dees in the senibler number stoppers and six pomelame , all as saying the days afphan peacekeep . violence rilitias shat bankes are as presovered presidential reqiests freed meanthieled . russia has casusabe to develop confiden chite of ocloma . chile is diided futhinEpoch 19/25\n",
      "242693/242693 [==============================] - 45s 184us/step - loss: 0.8914 - acc: 0.7180\n",
      "\n",
      "----- Generating text after Epoch: 18\n",
      "----- Generating with seed: \"wn their weapons monday at the start of \"\n",
      "wn their weapons monday at the start of a feer of 3675 . he said he was formed pinoung , but in 2005 . a former u.s. violence and progress had nothing in badrdad regor convidies provides esporitional pendirman japque see wate jule ) has cubled on killed a faga has received to the fee . minister was krodgh joh , attlanth cilition between out by the u.s. govorn as syinaly pressuetasted for the united states defense rebeass compus end the Epoch 20/25\n",
      "242693/242693 [==============================] - 45s 184us/step - loss: 0.8861 - acc: 0.7199\n",
      "\n",
      "----- Generating text after Epoch: 19\n",
      "----- Generating with seed: \" , had just made bail following his indi\"\n",
      " , had just made bail following his indian outbitein to continue to survey for the authority . dore than 600 , six winher kay moida , milrie has called alloss the sucreas in provinci , late that the action is sunday . the track car be trawed bonaghangs , on china 's security released notice and striget and for punhing in the national leader saturday wednesday , turkey 's important or palestinian officials set outly was kre tracked to fvEpoch 21/25\n",
      "242693/242693 [==============================] - 45s 184us/step - loss: 0.8942 - acc: 0.7163\n",
      "\n",
      "----- Generating text after Epoch: 20\n",
      "----- Generating with seed: \"ance to el salvador and costa rica , and\"\n",
      "ance to el salvador and costa rica , and mijia that the callies president hus achivily died . nato security coace for racher , a thrt sivilians suided more denaile , colle request in 1999 . the pakistani operation u.s.-fled what he says the owst eastern and kingrian of the midsion . friday detacial resorves absuran new bombing pakos and opposition government-forces would jeliet . officials basked for runched waln citizens . himes and ofEpoch 22/25\n",
      "242693/242693 [==============================] - 45s 184us/step - loss: 0.9033 - acc: 0.7142\n",
      "\n",
      "----- Generating text after Epoch: 21\n",
      "----- Generating with seed: \"e of the assassination of former lebanes\"\n",
      "e of the assassination of former lebanese common in the second national insistent powed in the occubution . nca dealing oce continue to save during a that discovericed hemp of opposition texso who veliciand may over conduction is the first of the inquary anter mikalonse power over the founding in the gaza . the sarby said the provonces andire a brow hid the president ahame jay , to 10,000 . the the aid 's election said that his gao: shiEpoch 23/25\n",
      "242693/242693 [==============================] - 45s 184us/step - loss: 0.9014 - acc: 0.7140\n",
      "\n",
      "----- Generating text after Epoch: 22\n",
      "----- Generating with seed: \"ng for an independent tribal homeland fo\"\n",
      "ng for an independent tribal homeland for haman interrocied the pole of south korea and palestinian leader militants in northern iraq meeting between rebulti-uranisal inched antas as islamis monday . the area in servies from the olympic mission whitt hundreds of workers as so kollow . but mrove the olem in gaza sirces are forces from the u.n. . u.s.-docnops grown attend a public olleg at plateralist port of the country . mr. missas in mEpoch 24/25\n",
      "242693/242693 [==============================] - 45s 184us/step - loss: 0.8965 - acc: 0.7161\n",
      "\n",
      "----- Generating text after Epoch: 23\n",
      "----- Generating with seed: \"key border crossing in the northern gaza\"\n",
      "key border crossing in the northern gaza strim . it dadas has chencies from the mostla piverity , for divolom , became some 7,00,000 troops to facts that international oil rebel acainst the cebement in the regulation in eight and the last yhu faid a few considers gunded of reports by its repigese renis held in lave wedne dassovering the invition , managuiled a \" mongor than a minities fear terrorists by western province says it also appEpoch 25/25\n",
      "242693/242693 [==============================] - 45s 184us/step - loss: 0.9026 - acc: 0.7138\n",
      "\n",
      "----- Generating text after Epoch: 24\n",
      "----- Generating with seed: \" president islam karimov , saying whatev\"\n",
      " president islam karimov , saying whatever when ened prepicians houke and sold arkhigating in the 1990ch medies are u.s. dite fall had trelk . no adbression in whith the world bast october 13 . the israeli misister menia has barned the been nailed to response state finance militias becautes the death of the deadly intertational capabli , who compence boadd and servers were leading committed by a by a dispostemburling between afgean . th"
     ]
    }
   ],
   "source": [
    "from keras.callbacks import LambdaCallback\n",
    "print_callback = LambdaCallback(on_epoch_end=on_epoch_end)\n",
    "pd.DataFrame(model.fit(x, y,batch_size=256,epochs=25, callbacks=[print_callback]).history).to_csv(\"history_1O.csv\")\n",
    "model.save(\"model_1O.h5\")"
   ]
  },
  {
   "cell_type": "markdown",
   "metadata": {
    "colab_type": "text",
    "id": "QP8yeDjRuJSK"
   },
   "source": [
    "Frases luego de 25 epochs no tienen una coherencía, pero si tienen el sentido de lo que se quiere. Por lo que las sentencias estan dentro de lo esperado. ."
   ]
  },
  {
   "cell_type": "markdown",
   "metadata": {
    "colab_type": "text",
    "id": "g5d4K_0Qzb_T"
   },
   "source": [
    "## Pregunta P\n",
    "Verifique la calidad de la red entrenada, cargando el modelo si es que lo guardó o directamente, entregando una predicción sobre una semilla inicial que usted entregue. **Observe y comente cualitativamente sobre qué pasa cuando la predicción del siguiente carácter fuese de manera determinista, tomando el máximo valor de entre las predicciones.**"
   ]
  },
  {
   "cell_type": "code",
   "execution_count": 0,
   "metadata": {
    "colab": {
     "base_uri": "https://localhost:8080/",
     "height": 72
    },
    "colab_type": "code",
    "id": "CCxRpsyPzf7D",
    "outputId": "ee80f909-0875-4615-8c76-9a4b7deb6740"
   },
   "outputs": [
    {
     "name": "stdout",
     "output_type": "stream",
     "text": [
      "----- Generating with seed: \"it is \"\n",
      "it is baktan . he offorman whan and says in reports and sold and captions tok provin and to compansh officing about city offere . itranif effort has protech after judge and head . russian officing soo , and pakist after , the organis wan carrying andand of mr. talks in reavel of pakint contric expert killed atorick in adount , builtist deads . the falina timonon , kid a rought since an invely . near hea"
     ]
    }
   ],
   "source": [
    "#from keras.models import load_model\n",
    "#model = load_model(\"model_10.h5\")\n",
    "\n",
    "sentence = \"it is \"\n",
    "print('----- Generating with seed: \"' + sentence + '\"')\n",
    "sys.stdout.write(sentence)\n",
    "for i in range(400):\n",
    "    next_char = predict_next_char(model, sentence)\n",
    "    sentence = sentence[1:] + next_char \n",
    "    sys.stdout.write(next_char)\n",
    "    sys.stdout.flush()"
   ]
  },
  {
   "cell_type": "markdown",
   "metadata": {
    "colab_type": "text",
    "id": "oTSKoPEbEzy0"
   },
   "source": [
    "La funcipon para definir el carácter que sigue, se toma la actual sentencia, la red realiza probabilidades y genera un random para generar la siguiente, esto hace que la  función no sea determinista, sino por el contrario sea estocástico. \n",
    "Si fuera determinista, lo que realizaría es eligir la etiqueta con mayor probabilidad en muchos casos, y estos van a ir a la misma frase. Por lo tanto, genera secuencias de caracteres q llevan a lo mismo.\n",
    "\n",
    "\n",
    "Para este caso se define $sentence$ con unos pocos caractéres, pero no hay ningún problemo con la longitud de las sentencias durante el proceso, debido a que la función $predict next_char$  se encarga de esto."
   ]
  }
 ],
 "metadata": {
  "accelerator": "GPU",
  "colab": {
   "collapsed_sections": [],
   "name": "ANN3-Pregunta1.ipynb",
   "provenance": [],
   "toc_visible": true,
   "version": "0.3.2"
  },
  "kernelspec": {
   "display_name": "Python 3",
   "language": "python",
   "name": "python3"
  },
  "language_info": {
   "codemirror_mode": {
    "name": "ipython",
    "version": 3
   },
   "file_extension": ".py",
   "mimetype": "text/x-python",
   "name": "python",
   "nbconvert_exporter": "python",
   "pygments_lexer": "ipython3",
   "version": "3.6.6"
  }
 },
 "nbformat": 4,
 "nbformat_minor": 1
}
